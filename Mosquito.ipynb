{
 "cells": [
  {
   "cell_type": "markdown",
   "metadata": {},
   "source": [
    "***O Problema*** \n",
    "\n",
    "Em um futuro próximo e fictício determinada região do Brasil terá um problema sério com o Zika vírus. As agências de saúde não conseguem combater a proliferação dos mosquitos (Aedes Aegypt) que transmitem o Zika e portanto o governo pediu ajuda de diversas universidades nessa causa. Você vive neste momento do tempo e recentemente leu um artigo em que pesquisadores descobriram que se o tempo de vida médio do mosquito caísse em 10% as atuais força-tarefas conseguiriam combater a proliferação. Em um surto de criatividade você lembra que na universidade em que trabalha há um laboratório estudando o Aedes Aegypt e pode quem sabe criar um modelo para prever o tempo de vida deles. Se o seu modelo funcionar é possível identificar quais fatores influenciam mais no resultado final e a devida alteração nos fatores pode reduzir o tempo de vida dos mosquitos.\n",
    "\n",
    "***Os dados***\n"
   ]
  },
  {
   "cell_type": "markdown",
   "metadata": {},
   "source": [
    "$y = a*T+b*L+c*H+d*V + e*P + f$\n",
    "\n",
    "Temperatura = T\n",
    "Luminosidade = L\n",
    "pH = H\n",
    "Viscosidade = V\n",
    "Pressão = P"
   ]
  },
  {
   "cell_type": "code",
   "execution_count": 1,
   "metadata": {},
   "outputs": [],
   "source": [
    "import numpy as np\n",
    "import pandas as pd\n",
    "import matplotlib.pyplot as plt\n",
    "import seaborn as sns\n",
    "%matplotlib inline"
   ]
  },
  {
   "cell_type": "code",
   "execution_count": 2,
   "metadata": {},
   "outputs": [],
   "source": [
    "dados = pd.read_csv(r'.\\datasets\\outros\\mosquito_train.csv')\n",
    "dados_test = pd.read_csv(r'.\\datasets\\outros\\mosquito_test.csv')"
   ]
  },
  {
   "cell_type": "code",
   "execution_count": 3,
   "metadata": {},
   "outputs": [
    {
     "data": {
      "text/html": [
       "<div>\n",
       "<style scoped>\n",
       "    .dataframe tbody tr th:only-of-type {\n",
       "        vertical-align: middle;\n",
       "    }\n",
       "\n",
       "    .dataframe tbody tr th {\n",
       "        vertical-align: top;\n",
       "    }\n",
       "\n",
       "    .dataframe thead th {\n",
       "        text-align: right;\n",
       "    }\n",
       "</style>\n",
       "<table border=\"1\" class=\"dataframe\">\n",
       "  <thead>\n",
       "    <tr style=\"text-align: right;\">\n",
       "      <th></th>\n",
       "      <th>Unnamed: 0</th>\n",
       "      <th>T</th>\n",
       "      <th>L</th>\n",
       "      <th>H</th>\n",
       "      <th>V</th>\n",
       "      <th>P</th>\n",
       "      <th>Meia vida</th>\n",
       "    </tr>\n",
       "  </thead>\n",
       "  <tbody>\n",
       "    <tr>\n",
       "      <th>0</th>\n",
       "      <td>0</td>\n",
       "      <td>32.962622</td>\n",
       "      <td>0.264622</td>\n",
       "      <td>8.816275</td>\n",
       "      <td>1.478809</td>\n",
       "      <td>0.847658</td>\n",
       "      <td>42.307245</td>\n",
       "    </tr>\n",
       "    <tr>\n",
       "      <th>1</th>\n",
       "      <td>1</td>\n",
       "      <td>57.871541</td>\n",
       "      <td>0.188583</td>\n",
       "      <td>4.538144</td>\n",
       "      <td>2.823074</td>\n",
       "      <td>1.181404</td>\n",
       "      <td>19.884377</td>\n",
       "    </tr>\n",
       "    <tr>\n",
       "      <th>2</th>\n",
       "      <td>2</td>\n",
       "      <td>29.114435</td>\n",
       "      <td>0.253977</td>\n",
       "      <td>7.751076</td>\n",
       "      <td>1.782949</td>\n",
       "      <td>0.913456</td>\n",
       "      <td>36.321885</td>\n",
       "    </tr>\n",
       "    <tr>\n",
       "      <th>3</th>\n",
       "      <td>3</td>\n",
       "      <td>34.429962</td>\n",
       "      <td>0.222498</td>\n",
       "      <td>7.755267</td>\n",
       "      <td>2.087207</td>\n",
       "      <td>0.957653</td>\n",
       "      <td>40.498003</td>\n",
       "    </tr>\n",
       "    <tr>\n",
       "      <th>4</th>\n",
       "      <td>4</td>\n",
       "      <td>23.194881</td>\n",
       "      <td>0.105841</td>\n",
       "      <td>6.086121</td>\n",
       "      <td>1.686923</td>\n",
       "      <td>0.923796</td>\n",
       "      <td>33.004010</td>\n",
       "    </tr>\n",
       "  </tbody>\n",
       "</table>\n",
       "</div>"
      ],
      "text/plain": [
       "   Unnamed: 0          T         L         H         V         P  Meia vida\n",
       "0           0  32.962622  0.264622  8.816275  1.478809  0.847658  42.307245\n",
       "1           1  57.871541  0.188583  4.538144  2.823074  1.181404  19.884377\n",
       "2           2  29.114435  0.253977  7.751076  1.782949  0.913456  36.321885\n",
       "3           3  34.429962  0.222498  7.755267  2.087207  0.957653  40.498003\n",
       "4           4  23.194881  0.105841  6.086121  1.686923  0.923796  33.004010"
      ]
     },
     "execution_count": 3,
     "metadata": {},
     "output_type": "execute_result"
    }
   ],
   "source": [
    "dados.head()"
   ]
  },
  {
   "cell_type": "code",
   "execution_count": 4,
   "metadata": {},
   "outputs": [
    {
     "name": "stdout",
     "output_type": "stream",
     "text": [
      "<class 'pandas.core.frame.DataFrame'>\n",
      "RangeIndex: 100 entries, 0 to 99\n",
      "Data columns (total 7 columns):\n",
      "Unnamed: 0    100 non-null int64\n",
      "T             100 non-null float64\n",
      "L             100 non-null float64\n",
      "H             100 non-null float64\n",
      "V             100 non-null float64\n",
      "P             100 non-null float64\n",
      "Meia vida     100 non-null float64\n",
      "dtypes: float64(6), int64(1)\n",
      "memory usage: 5.5 KB\n"
     ]
    }
   ],
   "source": [
    "dados.info()"
   ]
  },
  {
   "cell_type": "code",
   "execution_count": 5,
   "metadata": {},
   "outputs": [
    {
     "data": {
      "text/html": [
       "<div>\n",
       "<style scoped>\n",
       "    .dataframe tbody tr th:only-of-type {\n",
       "        vertical-align: middle;\n",
       "    }\n",
       "\n",
       "    .dataframe tbody tr th {\n",
       "        vertical-align: top;\n",
       "    }\n",
       "\n",
       "    .dataframe thead th {\n",
       "        text-align: right;\n",
       "    }\n",
       "</style>\n",
       "<table border=\"1\" class=\"dataframe\">\n",
       "  <thead>\n",
       "    <tr style=\"text-align: right;\">\n",
       "      <th></th>\n",
       "      <th>Unnamed: 0</th>\n",
       "      <th>T</th>\n",
       "      <th>L</th>\n",
       "      <th>H</th>\n",
       "      <th>V</th>\n",
       "      <th>P</th>\n",
       "      <th>Meia vida</th>\n",
       "    </tr>\n",
       "  </thead>\n",
       "  <tbody>\n",
       "    <tr>\n",
       "      <th>count</th>\n",
       "      <td>100.000000</td>\n",
       "      <td>100.000000</td>\n",
       "      <td>100.000000</td>\n",
       "      <td>100.000000</td>\n",
       "      <td>100.000000</td>\n",
       "      <td>100.000000</td>\n",
       "      <td>100.000000</td>\n",
       "    </tr>\n",
       "    <tr>\n",
       "      <th>mean</th>\n",
       "      <td>49.500000</td>\n",
       "      <td>36.500217</td>\n",
       "      <td>0.210004</td>\n",
       "      <td>7.522160</td>\n",
       "      <td>2.144180</td>\n",
       "      <td>0.974804</td>\n",
       "      <td>35.050532</td>\n",
       "    </tr>\n",
       "    <tr>\n",
       "      <th>std</th>\n",
       "      <td>29.011492</td>\n",
       "      <td>11.357673</td>\n",
       "      <td>0.072945</td>\n",
       "      <td>1.981272</td>\n",
       "      <td>0.600770</td>\n",
       "      <td>0.139929</td>\n",
       "      <td>8.393728</td>\n",
       "    </tr>\n",
       "    <tr>\n",
       "      <th>min</th>\n",
       "      <td>0.000000</td>\n",
       "      <td>5.905340</td>\n",
       "      <td>0.033621</td>\n",
       "      <td>2.499656</td>\n",
       "      <td>0.698625</td>\n",
       "      <td>0.640935</td>\n",
       "      <td>19.884377</td>\n",
       "    </tr>\n",
       "    <tr>\n",
       "      <th>25%</th>\n",
       "      <td>24.750000</td>\n",
       "      <td>29.176401</td>\n",
       "      <td>0.163851</td>\n",
       "      <td>6.083889</td>\n",
       "      <td>1.764715</td>\n",
       "      <td>0.890123</td>\n",
       "      <td>28.607829</td>\n",
       "    </tr>\n",
       "    <tr>\n",
       "      <th>50%</th>\n",
       "      <td>49.500000</td>\n",
       "      <td>34.716329</td>\n",
       "      <td>0.209338</td>\n",
       "      <td>7.551669</td>\n",
       "      <td>2.100369</td>\n",
       "      <td>0.974588</td>\n",
       "      <td>34.702547</td>\n",
       "    </tr>\n",
       "    <tr>\n",
       "      <th>75%</th>\n",
       "      <td>74.250000</td>\n",
       "      <td>44.476820</td>\n",
       "      <td>0.265023</td>\n",
       "      <td>8.795536</td>\n",
       "      <td>2.542407</td>\n",
       "      <td>1.062133</td>\n",
       "      <td>40.464280</td>\n",
       "    </tr>\n",
       "    <tr>\n",
       "      <th>max</th>\n",
       "      <td>99.000000</td>\n",
       "      <td>60.744661</td>\n",
       "      <td>0.383615</td>\n",
       "      <td>14.123069</td>\n",
       "      <td>3.424755</td>\n",
       "      <td>1.316421</td>\n",
       "      <td>58.421981</td>\n",
       "    </tr>\n",
       "  </tbody>\n",
       "</table>\n",
       "</div>"
      ],
      "text/plain": [
       "       Unnamed: 0           T           L           H           V           P  \\\n",
       "count  100.000000  100.000000  100.000000  100.000000  100.000000  100.000000   \n",
       "mean    49.500000   36.500217    0.210004    7.522160    2.144180    0.974804   \n",
       "std     29.011492   11.357673    0.072945    1.981272    0.600770    0.139929   \n",
       "min      0.000000    5.905340    0.033621    2.499656    0.698625    0.640935   \n",
       "25%     24.750000   29.176401    0.163851    6.083889    1.764715    0.890123   \n",
       "50%     49.500000   34.716329    0.209338    7.551669    2.100369    0.974588   \n",
       "75%     74.250000   44.476820    0.265023    8.795536    2.542407    1.062133   \n",
       "max     99.000000   60.744661    0.383615   14.123069    3.424755    1.316421   \n",
       "\n",
       "        Meia vida  \n",
       "count  100.000000  \n",
       "mean    35.050532  \n",
       "std      8.393728  \n",
       "min     19.884377  \n",
       "25%     28.607829  \n",
       "50%     34.702547  \n",
       "75%     40.464280  \n",
       "max     58.421981  "
      ]
     },
     "execution_count": 5,
     "metadata": {},
     "output_type": "execute_result"
    }
   ],
   "source": [
    "dados.describe()"
   ]
  },
  {
   "cell_type": "code",
   "execution_count": 6,
   "metadata": {},
   "outputs": [],
   "source": [
    "# libraries for machine learning\n",
    "from sklearn.model_selection import StratifiedShuffleSplit, train_test_split, GridSearchCV, cross_val_score\n",
    "from sklearn.metrics import mean_squared_error, r2_score\n",
    "\n",
    "# regression\n",
    "from sklearn.linear_model import LogisticRegression, LinearRegression, Ridge, Lasso\n",
    "from sklearn.ensemble import RandomForestRegressor\n",
    "from sklearn.neighbors import KNeighborsRegressor\n",
    "from sklearn.svm import SVR, LinearSVR\n",
    "from sklearn.tree import DecisionTreeRegressor\n",
    "from sklearn.ensemble import RandomForestRegressor, AdaBoostRegressor, GradientBoostingRegressor\n",
    "\n",
    "import warnings\n",
    "warnings.filterwarnings('ignore')"
   ]
  },
  {
   "cell_type": "code",
   "execution_count": 7,
   "metadata": {},
   "outputs": [],
   "source": [
    "X_train = dados.drop('Meia vida',axis=1).values\n",
    "y_train = dados['Meia vida'].copy().values"
   ]
  },
  {
   "cell_type": "code",
   "execution_count": 8,
   "metadata": {},
   "outputs": [],
   "source": [
    "X_test = dados_test.drop('Meia vida',axis=1).values\n",
    "y_test = dados_test['Meia vida'].copy().values"
   ]
  },
  {
   "cell_type": "code",
   "execution_count": 11,
   "metadata": {},
   "outputs": [],
   "source": [
    "from sklearn.preprocessing import StandardScaler\n",
    "scaler = StandardScaler()\n",
    "X_train = scaler.fit_transform(X_train)\n",
    "X_test = scaler.fit_transform(X_test)"
   ]
  },
  {
   "cell_type": "code",
   "execution_count": 12,
   "metadata": {},
   "outputs": [
    {
     "data": {
      "text/plain": [
       "LinearRegression(copy_X=True, fit_intercept=True, n_jobs=1, normalize=False)"
      ]
     },
     "execution_count": 12,
     "metadata": {},
     "output_type": "execute_result"
    }
   ],
   "source": [
    "lre = LinearRegression()\n",
    "lre.fit(X_train,y_train)"
   ]
  },
  {
   "cell_type": "code",
   "execution_count": 13,
   "metadata": {},
   "outputs": [
    {
     "name": "stdout",
     "output_type": "stream",
     "text": [
      "R2:   0.82\n",
      "RMSE: 3.51\n"
     ]
    }
   ],
   "source": [
    "#train set\n",
    "y_pred_lre = lre.predict(X_train)\n",
    "print('R2:   {:.2f}'.format(r2_score(y_train,y_pred_lre)))\n",
    "print('RMSE: {:.2f}'.format(np.sqrt(mean_squared_error(y_train,y_pred_lre))))"
   ]
  },
  {
   "cell_type": "code",
   "execution_count": 14,
   "metadata": {},
   "outputs": [
    {
     "name": "stdout",
     "output_type": "stream",
     "text": [
      "R2:   0.56\n",
      "RMSE: 4.19\n"
     ]
    }
   ],
   "source": [
    "#test set\n",
    "y_pred_lre = lre.predict(X_test)\n",
    "print('R2:   {:.2f}'.format(r2_score(y_test,y_pred_lre)))\n",
    "print('RMSE: {:.2f}'.format(np.sqrt(mean_squared_error(y_test,y_pred_lre))))"
   ]
  },
  {
   "cell_type": "code",
   "execution_count": 15,
   "metadata": {},
   "outputs": [
    {
     "name": "stdout",
     "output_type": "stream",
     "text": [
      "[ 0.40256172 -2.3317529   2.14208933  5.95507983  2.4294057   0.12392003]\n",
      "35.05053200207724\n"
     ]
    }
   ],
   "source": [
    "coef = lre.coef_\n",
    "print(coef)\n",
    "inter =  lre.intercept_\n",
    "print(inter)"
   ]
  },
  {
   "cell_type": "markdown",
   "metadata": {},
   "source": [
    "y_model = a*T + b*L + c*H + d*V + e*P + f"
   ]
  },
  {
   "cell_type": "markdown",
   "metadata": {},
   "source": [
    "***DecisionTreeRegressor***"
   ]
  },
  {
   "cell_type": "code",
   "execution_count": 17,
   "metadata": {},
   "outputs": [
    {
     "data": {
      "text/plain": [
       "DecisionTreeRegressor(criterion='mse', max_depth=None, max_features=None,\n",
       "           max_leaf_nodes=None, min_impurity_decrease=0.0,\n",
       "           min_impurity_split=None, min_samples_leaf=1,\n",
       "           min_samples_split=2, min_weight_fraction_leaf=0.0,\n",
       "           presort=False, random_state=None, splitter='best')"
      ]
     },
     "execution_count": 17,
     "metadata": {},
     "output_type": "execute_result"
    }
   ],
   "source": [
    "tree = DecisionTreeRegressor()\n",
    "tree.fit(X_train,y_train)"
   ]
  },
  {
   "cell_type": "code",
   "execution_count": 18,
   "metadata": {},
   "outputs": [
    {
     "name": "stdout",
     "output_type": "stream",
     "text": [
      "R2:   1.00\n",
      "RMSE: 0.00\n"
     ]
    }
   ],
   "source": [
    "#train set\n",
    "y_pred_tree = tree.predict(X_train)\n",
    "print('R2:   {:.2f}'.format(r2_score(y_train,y_pred_tree)))\n",
    "print('RMSE: {:.2f}'.format(np.sqrt(mean_squared_error(y_train,y_pred_tree))))"
   ]
  },
  {
   "cell_type": "code",
   "execution_count": 19,
   "metadata": {},
   "outputs": [
    {
     "name": "stdout",
     "output_type": "stream",
     "text": [
      "R2:   0.56\n",
      "RMSE: 4.19\n"
     ]
    }
   ],
   "source": [
    "#test set\n",
    "y_pred_tree = lre.predict(X_test)\n",
    "print('R2:   {:.2f}'.format(r2_score(y_test,y_pred_tree)))\n",
    "print('RMSE: {:.2f}'.format(np.sqrt(mean_squared_error(y_test,y_pred_tree))))"
   ]
  },
  {
   "cell_type": "code",
   "execution_count": 20,
   "metadata": {},
   "outputs": [],
   "source": [
    "regressors = [\n",
    "    KNeighborsRegressor(),\n",
    "    SVR(),\n",
    "    DecisionTreeRegressor(),\n",
    "    RandomForestRegressor(),\n",
    "    AdaBoostRegressor(),\n",
    "    GradientBoostingRegressor(),\n",
    "    LinearRegression(),\n",
    "    Ridge(alpha=15, solver='cholesky'),\n",
    "    Lasso()]"
   ]
  },
  {
   "cell_type": "code",
   "execution_count": 21,
   "metadata": {},
   "outputs": [],
   "source": [
    "# graph to compare different regressors with the same chosen metric\n",
    "\n",
    "# regressors = list of regressors we want to use\n",
    "# metric = chosen metric:'neg_mean_absolute_error','neg_mean_squared_error','rmse,neg_median_absolute_error','r2','AdjR2'\n",
    "# cv = number of desired folds\n",
    "def scoringGraph(regressors,metric,cv,X,y):\n",
    "    score_dict = {}\n",
    "    log_cols = ['Regressor', metric]\n",
    "    log = pd.DataFrame(columns=log_cols)\n",
    "    for item in regressors:\n",
    "        name = item.__class__.__name__\n",
    "        if metric == 'rmse':\n",
    "            result = cross_val_score(item, X, y, scoring='neg_mean_squared_error',cv=cv)\n",
    "            score_mean = np.sqrt(-result).mean()\n",
    "        else:\n",
    "            result = cross_val_score(item, X, y, scoring=metric,cv=cv)\n",
    "            if metric == 'r2':\n",
    "                score_mean = result.mean()\n",
    "            else:\n",
    "                score_mean = -result.mean()\n",
    "        score_dict[name] = score_mean\n",
    "\n",
    "    for item in score_dict:\n",
    "        log_entry = pd.DataFrame([[item, score_dict[item]]], columns=log_cols)\n",
    "        log = log.append(log_entry)\n",
    "\n",
    "    plt.xlabel(metric)\n",
    "    plt.title('Regressor Score')\n",
    "    sns.set_color_codes(\"muted\")\n",
    "    sns.barplot(x=metric, y='Regressor', data=log, color=\"b\")"
   ]
  },
  {
   "cell_type": "code",
   "execution_count": 22,
   "metadata": {},
   "outputs": [
    {
     "data": {
      "image/png": "[encoded data removed]",
      "text/plain": [
       "<Figure size 432x288 with 1 Axes>"
      ]
     },
     "metadata": {
      "needs_background": "light"
     },
     "output_type": "display_data"
    }
   ],
   "source": [
    "scoringGraph(regressors,'rmse',3,X_train,y_train)"
   ]
  },
  {
   "cell_type": "markdown",
   "metadata": {},
   "source": [
    "***Agora é sua vez***\n",
    "\n",
    "Encontre algum algoritmo que encontre um RMSE menor do que o que encontramos usando o ajuste com GridSearchCV. Não esqueça de verificar se está ocorrendo underfitting ou ouverfitting."
   ]
  }
 ],
 "metadata": {
  "kernelspec": {
   "display_name": "Python 3",
   "language": "python",
   "name": "python3"
  },
  "language_info": {
   "codemirror_mode": {
    "name": "ipython",
    "version": 3
   },
   "file_extension": ".py",
   "mimetype": "text/x-python",
   "name": "python",
   "nbconvert_exporter": "python",
   "pygments_lexer": "ipython3",
   "version": "3.6.2"
  }
 },
 "nbformat": 4,
 "nbformat_minor": 2
}
