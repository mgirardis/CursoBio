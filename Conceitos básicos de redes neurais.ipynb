{
 "cells": [
  {
   "cell_type": "markdown",
   "metadata": {},
   "source": [
    "# Conceitos básicos de Redes Neurais\n",
    "\n",
    "-  Como trabalhar com redes neurais?\n",
    "-  O neurônio e como aprendemos - Artificial Neural Networks (ANNs)\n",
    "-  Preceptron\n",
    "-  Transfer learning - Usando redes pré-treinadas\n",
    "-  Convolutional Neural Networks (CNNs)\n",
    "-  Recurent Neural Networks (RNN)"
   ]
  },
  {
   "cell_type": "markdown",
   "metadata": {},
   "source": [
    "## Como trabalhar com redes neurais?\n",
    "\n",
    "<img src=\"images/lib_nn.png\" alt=\"Como usar redes neurais\" style=\"width: 1000px;\"/>\n",
    "<center><font size=\"1\">Fonte: https://github.com/ageron/handson-ml</font></center>"
   ]
  },
  {
   "cell_type": "markdown",
   "metadata": {},
   "source": [
    "## O neurônio e como aprendemos - Artificial Neural Networks (ANNs)\n",
    "\n",
    "As ANNs foram sugeridas inicialmente em 1943 pelo neurofisiologista Warren McCulloch e o matemático Walter Pitts:  \n",
    "MCCULLOCH, Warren S.; PITTS, Walter. A logical calculus of the ideas immanent in nervous activity. ***The bulletin of mathematical biophysics***, v. 5, n. 4, p. 115-133, 1943.\n",
    "\n",
    "<img src=\"images/neuron.png\" alt=\"Neurônio\" style=\"width: 500px;\"/>\n",
    "<center><font size=\"1\">Fonte: https://github.com/ageron/handson-ml</font></center>\n",
    "\n",
    "## Perceptron\n",
    "\n",
    "ROSENBLATT, Frank. The perceptron: a probabilistic model for information storage and organization in the brain. ***Psychological review***, v. 65, n. 6, p. 386, 1958.\n",
    "\n",
    "<img src=\"images/perceptron.png\" alt=\"Perceptron\" style=\"width: 500px;\"/>\n",
    "<center><font size=\"1\">Fonte:https://towardsdatascience.com/what-the-hell-is-perceptron-626217814f53</font></center>\n",
    "\n",
    "\n",
    "Apesar do sucesso os Perceptron possui várias fraquezas: Multi-layer Perceptron.  \n",
    "RUMELHART, David E.; HINTON, Geoffrey E.; WILLIAMS, Ronald J. ***Learning internal representations by error propagation.*** California Univ San Diego La Jolla Inst for Cognitive Science, 1985.\n",
    "\n",
    "<img src=\"images/mlp.jpeg\" alt=\"Multi-Layer Perceptron\" style=\"width: 500px;\"/>\n",
    "<center><font size=\"1\">Fonte:https://medium.com/@samuelsena/pengenalan-deep-learning-part-2-multilayer-perceptron-e8f98d625b09</font></center>\n",
    "\n",
    "Backpropagation: O algoritmo faz a previsão, calcula o erro e volta camada por camada verificando qual a contribuição do erro de cada uma. Com isso encontra a \"fonte de erro\" e a corrige localmente.\n",
    "\n",
    "A função de ativação: O processo de backpropagation utiliza o Gradient Descent e o mais fundamental para a qualidade das previsões é a função de ativação, que pode ser: Heaviside, tangente hiperbólica, sigmoidal, ReLU, leakyReLU...\n",
    "\n",
    "<img src=\"images/activation_func.png\" alt=\"Activation functions\" style=\"width: 500px;\"/>\n",
    "<center><font size=\"1\">Fonte: https://github.com/ageron/handson-ml</font></center>\n",
    "\n",
    "\n"
   ]
  },
  {
   "cell_type": "markdown",
   "metadata": {},
   "source": [
    "## Transfer learning - Usando redes pré-treinadas\n",
    "\n",
    "<img src=\"images/transfer-learning.png\" alt=\"Transfer Learning\" style=\"width: 500px;\"/>\n",
    "<center><font size=\"1\">Fonte:https://www.datanami.com/2016/06/03/unstructured-data-miners-chase-silver-deep-learning/</font></center>\n",
    "\n",
    "Algumas bibliotecas:  \n",
    "-  Keras: https://keras.io/applications/  \n",
    "-  TensorFlow: https://github.com/tensorflow/models\n",
    "-  caffe: https://github.com/BVLC/caffe/wiki/Model-Zoo\n",
    "-  caffe2: https://github.com/caffe2/caffe2/wiki/Model-Zoo\n",
    "-  pytorch: https://github.com/Cadene/pretrained-models.pytorch\n",
    "-  Lasagne: https://github.com/Lasagne/Recipes"
   ]
  },
  {
   "cell_type": "markdown",
   "metadata": {},
   "source": [
    "##  Convolutional Neural Networks (CNNs)\n",
    "\n",
    "Com funcionamento baseado no córtex visual humano, estas redes hoje ultrapassaram a capacidade visual humana e são amplamente utilizadas na análise de imagens e vídeos principlamente.\n",
    "\n",
    "<img src=\"images/CNN.png\" alt=\"Transfer Learning\" style=\"width: 500px;\"/>\n",
    "<center><font size=\"1\">Fonte:https://www.ayasdi.com/blog/artificial-intelligence/using-topological-data-analysis-understand-behavior-convolutional-neural-networks/</font></center>\n",
    "\n",
    "Visualizando o reconhecimento de números:  \n",
    "-  http://scs.ryerson.ca/~aharley/vis/conv/"
   ]
  },
  {
   "cell_type": "markdown",
   "metadata": {},
   "source": [
    "##  Recurent Neural Networks (RNNs)\n",
    "\n",
    "Estas redes neurais são utilizadas na previsão de dados sequenciais,ou seja, dados que dependam do tempo como ações, cotação de moedas, temperatura, audio, etc. ou mesmo textos, já que a ordem  das letras é importante.\n",
    "\n",
    "<img src=\"images/rnn.png\" alt=\"Activation functions\" style=\"width: 500px;\"/>\n",
    "<center><font size=\"1\">Fonte: https://github.com/ageron/handson-ml</font></center>"
   ]
  },
  {
   "cell_type": "markdown",
   "metadata": {},
   "source": [
    "***Algumas aplicações***\n",
    "\n",
    "Google images, Alpha Go, Jogos online, reconhecimento de voz, assistir vídeos...\n",
    "\n",
    "-  AlphaGo\n",
    "\n",
    "https://www.netflix.com/watch/80190844?trackId=13752289&tctx=0%2C0%2Cf6b5f0ed30a9623177783bce5046be3d0c48859d%3Ab206a7876fa1308f345314faa0b7c439c52bd783%2C%2C\n",
    "\n",
    "-  Outros\n",
    "\n",
    "https://www.youtube.com/watch?v=i9MfT_7R_4w\n",
    "https://www.youtube.com/watch?v=hPKJBXkyTKM\n",
    "https://www.youtube.com/watch?v=Bui3DWs02h4\n",
    "https://www.youtube.com/watch?v=dcZvhP-IqY4\n",
    "\n",
    "\n"
   ]
  }
 ],
 "metadata": {
  "kernelspec": {
   "display_name": "Python 3",
   "language": "python",
   "name": "python3"
  },
  "language_info": {
   "codemirror_mode": {
    "name": "ipython",
    "version": 3
   },
   "file_extension": ".py",
   "mimetype": "text/x-python",
   "name": "python",
   "nbconvert_exporter": "python",
   "pygments_lexer": "ipython3",
   "version": "3.6.2"
  }
 },
 "nbformat": 4,
 "nbformat_minor": 2
}
