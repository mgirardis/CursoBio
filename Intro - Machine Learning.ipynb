{
 "cells": [
  {
   "cell_type": "markdown",
   "metadata": {},
   "source": [
    "# README:<br>\n",
    "This notebook was made by PhD. Junior A. Koch and PhD. Luana B. Peres as a Machine Learning introduction course for Bioinformatics PhD candidates at Universidade Federal de Santa Catarina on spring of 2018.<br>\n",
    "Esse notebook foi criado por PhD. Junior A. Koch e PhD. Luana B. Peres como curso introdutório de Machine Learning para doutorandos em Bioinformática na Universidade Federal de Santa Catarina durante a primavera de 2018."
   ]
  },
  {
   "cell_type": "markdown",
   "metadata": {},
   "source": [
    "# Conteúdo\n",
    "-  Instalação - Anaconda\n",
    "    -  Jupyter notebook\n",
    "    -  Mais opções\n",
    "-  Introdução aos conceitos de machine learning\n",
    "    -  O que é e para que serve?\n",
    "    -  Tipos de machine learning\n",
    "    -  Overfitting e underfitting\n",
    "    -  Métricas\n",
    "        -  Métricas para classificação\n",
    "        -  Métricas para regressão\n",
    "-  Classificação\n",
    "    -  Temos que classificar\n",
    "    -  Wisconsin Breast Cancer Dataset\n",
    "    -  HIV cleavage\n",
    "-  Regressão\n",
    "    -  Como funciona?\n",
    "\n",
    "-  Extras: Gene expression"
   ]
  },
  {
   "cell_type": "markdown",
   "metadata": {},
   "source": [
    "# Instalação - Anaconda\n",
    "\n",
    "O Anaconda é um conjunto de bibliotecas científicas de Python em um software apenas (e grátis), embora não seja necessária a sua instalação ela poupa o trabalho de instalar todas as bibliotecas individualmente.  \n",
    "A instalação é simples e pode ser obtida através do link: https://conda.io/docs/user-guide/install/index.html\n",
    "\n",
    "Utilizaremos aqui Python 3.6, portanto é necessário que você escolha esta versão para o seu sistema operacional.\n",
    "\n",
    "## Jupyter notebook\n",
    "\n",
    "Python também pode ser utilizado em um navegador convencional através de um notebook (isto que você está vendo é um notebook). Suas utilidades são muitas e você pode encontrar diversos tutoriais nos links abaixo:\n",
    "-   http://nbviewer.jupyter.org/github/jupyter/notebook/blob/master/docs/source/examples/Notebook/Notebook%20Basics.ipynb\n",
    "-   http://webserver2.tecgraf.puc-rio.br/~mgattass/fcg/T1PythonInstall.pdf\n",
    "-   https://www.dataquest.io/blog/jupyter-notebook-tutorial/\n",
    "-   https://medium.com/ibm-data-science-experience/markdown-for-jupyter-notebooks-cheatsheet-386c05aeebed\n",
    "\n",
    "\n",
    "## Mais opções\n",
    "\n",
    "É possível utilizar a ferramento do Google chamada Colab (https://colab.sandbox.google.com/), onde é possível importar seu próprio notebook ou criar um do zero. Com esta ferramenta nada precisa ser instalado em seu computador ou servidor."
   ]
  },
  {
   "cell_type": "markdown",
   "metadata": {},
   "source": [
    "# Introdução aos conceitos de machine learning"
   ]
  },
  {
   "cell_type": "markdown",
   "metadata": {},
   "source": [
    "## O que é e para que serve?"
   ]
  },
  {
   "cell_type": "markdown",
   "metadata": {},
   "source": [
    "\"Machine Learning é uma area de estudo que dá a computadores a habilidade de aprender sem serem explicitamente programados.\" - Arthur Samuel, 1959\n",
    "\n",
    "O objetivo fundamental de algoritmos de Machine Learning é aprender a partir de dados e generalizar além do training set para interpretar com sucesso dados nunca antes vistos.\n",
    "\n",
    "Filtro de spam, detecção de fraude de cartão de crédito, sistema de recomendação de filmes da Netflix e sugestão de amizades do Facebook são exemplos de programas de Machine Learning.\n",
    "\n",
    "<img src=\"images/ML approach.png\" alt=\"ML approach\" style=\"width: 600px;\"/>\n",
    "<center><font size=\"1\">Fonte:Géron, A., 2017. Hands-On Machine Learning with Scikit-Learn and TensorFlow. 1st ed. United States of America: O'Reilly Media, Inc.</font></center>\n",
    "\n",
    "### Inteligência artificial e Machine learning\n",
    "\n",
    "<img src=\"images/AI_ven_diagram.png\" alt=\"AI Ven Diagram\" style=\"width: 400px;\"/>\n",
    "<center><font size=\"1\">Fonte: https://blog.algorithmia.com/page/32/</font></center>"
   ]
  },
  {
   "cell_type": "markdown",
   "metadata": {},
   "source": [
    "## Tipos de machine learning\n",
    "Os sistemas de Machine Learning podem ser divididos em diferentes categorias de acordo com o tipo e a quantidade de supervisão que eles recebem durante o treinamento.\n",
    "\n",
    "***Supervised learning***: O modelo é treinado com uma série de exemplos (*training data*) contendo os dados de entrada (input) e os respectivos resultados esperados (aqui chamados *labels*). Portanto, o objetivo da aprendizagem supervisionada é aprender uma função que melhor aproxime a relação entre input e resultado, e que então seja capaz de predizer um valor correspondente para qualquer novo e desconhecido input.\n",
    "\n",
    "<img src=\"images/Supervised_Learning.png\" alt=\"Supervised Learning\" style=\"width: 500px;\"/>\n",
    "<center><font size=\"0.5\">Fonte: Géron, A., 2017. Hands-On Machine Learning with Scikit-Learn and TensorFlow. 1st ed. United States of America: O'Reilly Media, Inc.</font></center>\n",
    "\n",
    "Alguns dos mais importantes algoritmos de *supervised learning* são:\n",
    "    + k-Nearest Neighbors (Classificação);\n",
    "    + Linear Regression (Regressão);\n",
    "    + Logistic Regression (Classificação);\n",
    "    + Support Vector Machines (SVMs) (Classificação e Regressão);\n",
    "    + Decision Trees and Random Forests (Classificação e Regressão);\n",
    "    + Neural Networks (Classificação e Regressão).\n",
    "\n",
    "***Unsupervised learning:*** Os modelos são treinados com *unlabeled data*, ou seja, os dados alimentados ao modelo não contêm os resultados rotulados, ou seja, o sistema tenta aprender sem um professor. Portanto seu objetivo é inferir a estrutura natural presente dentro de um conjunto de dados.\n",
    "\n",
    "<img src=\"images/Unsupervised_Learning.png\" alt=\"Unsupervised Learning\" style=\"width: 500px;\"/>\n",
    "<center><font size=\"0.5\">Fonte: Géron, A., 2017. Hands-On Machine Learning with Scikit-Learn and TensorFlow. 1st ed. United States of America: O'Reilly Media, Inc.</font></center>\n",
    "\n",
    "Alguns dos mais importantes algoritmos de *unsupervised learning* são:\n",
    "    + k-Means (Clustering);\n",
    "    + Hierarchical Cluster Analysis, HCA (Clustering);\n",
    "    + Expectation Maximization (Clustering);\n",
    "    + Apriori (Assiciation);\n",
    "    + Eclat (Association);\n",
    "\n",
    "***Semisupervised learning:*** Alguns algoritmos conseguem lidar com dados parcialmente *labeled*. Nesse caso, os modelos são geralmente treinados com muitos dados *unlabeled* a alguns poucos *labeled*. A maioria dos algoritmos de *semisupervised learning* são uma combinação de algoritmos supervisionados e não-supervisionados.\n",
    "\n",
    "***Reinforcement learning:*** O sistema de aprendizagem, chamado de agente neste contexto, pode observar o ambiente, selecionar e executar ações e obter recompensas em retorno (ou penalidades na forma de recompensas negativas). Deve então aprender por si mesmo qual é a melhor estratégia, chamada política, para obter a maior recompensa ao longo do tempo. Uma política define qual ação o agente deve escolher quando estiver em uma determinada situação.\n",
    "\n",
    "Na prática, os sistemas mais utilizados são *Supervised Learning* e *Unsupervised Learning*.\n",
    "Em resumo:\n",
    "\n",
    "<img src=\"images/Tipos_ML.png\" alt=\"Tipos de Machine Learning\" style=\"width: 1200px;\"/>"
   ]
  },
  {
   "cell_type": "markdown",
   "metadata": {},
   "source": [
    "## Overfitting e underfitting"
   ]
  },
  {
   "cell_type": "markdown",
   "metadata": {},
   "source": [
    "Se o modelo tem uma boa performance no training data mas generaliza mal de acordo com as métricas da validação cruzada, então o modelo está overfitting. Se o modelo tem uma má performance em ambos, então ele está underfitting.\n",
    "\n",
    "O exemplo abaixo demonstra o problema de *underfitting* e *overfitting* de um modelo de regressão (Fonte: [Underfitting vs. Overfitting](http://scikit-learn.org/stable/auto_examples/model_selection/plot_underfitting_overfitting.html))\n",
    "\n",
    "<img src=\"images/plot_underfitting_overfitting.png\" alt=\"Overfitting-Underfitting\" style=\"width: 1200px;\"/>\n",
    "\n",
    "***Underfitting*** ocorre quando o modelo é simples demais para aprender a estrutura subjacente dos dados. Esse é o caso do primeiro caso no exemplo acima: o modelo linear (polinômio de 1º grau) não se ajusta suficientemente bem aos dados, que possuem caracterítica polinomial. As predições desse modelo estão fadadas a serem inexatas, e não irá generalizer bem nem mesmo ao dados de trainamento.\n",
    "\n",
    "***Overfitting***, por outro lado, ocorre quando o modelo é muito complexo e ajusta-se demasiadamente bem ao *training data*, inclusive aos ruídos e outliers. Esse é o caso do terceiro caso no exemplo acima: o modelo (polinômio de 15º grau) memorizou essensialmente todo o *training data* e tampouco aprendeu a relação entre input e resultado. Nesse caso o modelo apresentará boa performance no *training data* mas generalizará mal para novos dados. O *overfitting* é mais provável com modelos não paramétricos e não lineares que têm mais flexibilidade ao aprender uma função.\n",
    "\n",
    "No caso do meio no exemplo acima, o modelo (polinômio de 4º grau) é balancedo e aprendeu a relação real entre input e output sem memorizar o *training data*, aproximando-se quase perfeitamente à função verdadeira."
   ]
  },
  {
   "cell_type": "markdown",
   "metadata": {},
   "source": [
    "## Métricas\n",
    "\n",
    "Para sabermos a qualidade de um modelo precisamos de alguma medida que nos diga o quão bem ele se ajusta aos pontos do *training set* e do *test set*, chamamos isso de métricas. Vejamos algumas métricas para *supervised training*:\n",
    "\n",
    "### Métricas para classificação\n",
    "\n",
    "***Accuracy (acurácia)***\n",
    "É a porcentagem de acertos obtida pelo modelo. De modo geral a acurácia é uma medida mais qualitativa e pode ser usada para identificar se está ocorrendo *overfitting* ou *underfitting*, como pode ser visto na imagem abaixo:\n",
    "\n",
    "<img src=\"images/overfitting_underfitting_cartoon.png\" alt=\"Overfitting-Underfitting\" style=\"width: 500px;\"/>\n",
    "<center><font size=\"1\">Fonte: https://github.com/amueller/introduction_to_ml_with_python</font></center>\n",
    "\n",
    "***Confusion matrix (matriz de confusão)***\n",
    "É uma matriz que fornece os dados de acertos e erros do modelo de modo mais detalhado que a acurácia. Para um problema com duas classes diferentes teremos uma matriz do tipo:\n",
    "\n",
    "<img src=\"images/confusion_matrix.png\" alt=\"Confusion Matrix\" style=\"width: 350px;\"/>\n",
    "<center><font size=\"1\">Fonte: https://computersciencesource.wordpress.com/2010/01/07/year-2-machine-learning-confusion-matrix/</font></center>\n",
    "\n",
    "Definimos no modelo uma das classes sendo a *positiva* e outra como a *negativa* então a matrix mostra:\n",
    "-  $TP$ é o número de vezes que o modelo previu a classe positiva e acertou;\n",
    "-  $TN$ é o número de vezes que o modelo previu a classe negativa e acertou;\n",
    "-  $FP$ é o número de vezes que o modelo previu a classe positiva e errou;\n",
    "-  $FN$ é o número de vezes que o modelo previu a classe pnegativa e errou;\n",
    "\n",
    "Essa análise é especialmente importante quando queremos que $FP$ ou $FN$ sejam pequenos, um modelo ideal tem esses valores iguais a zero.\n",
    "\n",
    "***Precision e Recall***  \n",
    "Estes são quantidades usadas para avaliar modelo justamente com base em $FP$ e $FN$. São dados por:  \n",
    "<center>$Precision = \\frac{TP}{TP+FP},\\ \\ \\ \\ \\ \\ Recall = \\frac{TP}{TP+FN}$.</center>  \n",
    "Dependendo do problema em questão podemos querer que Precision ou Recall sejam altos (o máximo é 1), geralmente eles competem entre si.\n",
    "\n",
    "***Fazer uma figura parecida com isso***\n",
    "<img src=\"images/precision_recall_conf_matrix.png\" alt=\"Confusion Matrix\" style=\"width: 400px;\"/>  \n",
    "\n",
    "***F1***  \n",
    "Esta é uma métrica que leva em consideração tanto Precision quanto Recall, é uma média ponderada entre os dois com igual peso e é dada por:  \n",
    "<center>$F1 = \\frac{2}{\\frac{1}{Precision}+\\frac{1}{Recall}}$.</center>  \n",
    "\n",
    "***Threshold***  \n",
    "Um gráfico típico da disputa entre Precision e Recall é como o da figura abaixo:\n",
    "\n",
    "<img src=\"images/precision_recall_plot.png\" alt=\"Precison Recall threshold\" style=\"width: 400px;\"/>\n",
    "<center><font size=\"1\">Fonte: https://github.com/ageron/handson-ml</font></center>\n",
    "\n",
    "Como há uma competição entre Precision e Recall podemos definir um limite (threshold) baseado no quanto estamos dispostos a errar.\n",
    "\n",
    "***Curva de ROC e AUC***  \n",
    "\n",
    "A curva de ROC (Receiver Operating Characteristic) é uma maneira gráfica de analisar Precision e Recall:\n",
    "<img src=\"images/roc_curve.png\" alt=\"ROC Curve\" style=\"width: 400px;\"/>\n",
    "<center><font size=\"1\">Fonte: https://github.com/ageron/handson-ml</font></center>\n",
    "\n",
    "A linha tracejada representa a curva caso a classificação seja feita de forma aleatória (50% de cada classe). A linha azul representa o que o modelo conseguiu, onde *True positive rate* é o mesmo que Recall e *False positive rate* é o mesmo que Precision. A área sob é curva  (AUC) é a quantificação deste gráfico, onde num caso ideal teríamos $AUC=1$.\n",
    "\n",
    "### Métricas para regressão\n",
    "\n",
    "***Mean absolute error (MAE)***\n",
    "\n",
    "***Mean squared error (MSE)***\n",
    "\n",
    "***Mean standard deviation (MStd)***\n",
    "\n",
    "***Root mean squared error (RMSE)***\n",
    "\n",
    "***Root mean standard deviation (RMStd)***\n",
    "\n",
    "\n",
    "\n",
    "\n"
   ]
  },
  {
   "cell_type": "markdown",
   "metadata": {},
   "source": [
    "## Estrutura de criação e manutenção de um sistema de Machine Learning\n",
    "\n",
    "De maneira geral a utilização de Machine Learning se dá com uma estrutura bem definida como mostrado a seguir. Procure sempre olhar para o seu sistema e identificar se está no caminho certo.\n",
    "\n",
    "<img src=\"images/ML_steps.png\" alt=\"Estrutura de um sistem de ML\" style=\"width: 1200px;\"/>\n",
    "\n",
    "1.  ***O problema***  \n",
    "  Antes de iniciar nossa abordagem devemos entender que problema queremos resolver. Assim determinamos se será um aprendizado supervisionado ou não, se usaremos classificação ou regressão, que métricas são as mais indicadas e quais seus valores aceitáveis, como nossa solução será usada para resolver o problema e etc.  \n",
    "  \n",
    "2.  ***Consiga os dados***  \n",
    "  É importante saber como obter os dados. Nós vamos obtê-los através de algum experimento? Que variáveis são importantes para o modelo? É necessário autorização de alguém? São dados livres ou sigilosos?\n",
    "\n",
    "3.  ***Explore os dados***  \n",
    "  Com os dados em mãos devemos explorá-los através de gráficos e tabelas. Assim podemos identificar sua qualidade, se há dados faltando, se são suficientes, se precisam de alguma transformação, se podemos criar novas variáveis com as que temos, etc.\n",
    "\n",
    "4.  ***Prepare os dados para os algoritmos de Machine Learning***  \n",
    "  Após identificar o formato dos dados tomamos as atitudes necessárias para deixá-los de um modo que os algoritmos possam entender. Podemos talvez preencher dados faltantes com a média das outras amostras, variáveis com alta correlação devem ser evitadas, variáveis do tipo *string* devem ser representadas de forma numérica, modificar as escalas das variáveis, etc.\n",
    "\n",
    "5.  ***Escolha alguns modelos e os treine***  \n",
    "  Com os dados prontos devemos utilizar os algoritmos que achamos mais adequados e testar cada um de forma rápida analisando as métricas definidas. Então verificamos se há underfitting ou overfitting, se todas as veriáveis são mesmo necessárias, etc.\n",
    "\n",
    "6.  ***Melhore o modelo***  \n",
    "  Agora podemos escolher alguns dos modelos mais promissores e ajustar seus parâmetros de modo mais detalhado para encontrar a melhor solução possível para cada um.\n",
    "\n",
    "7.  ***Apresente sua solução***  \n",
    "  Como sempre é feito em ciência, documentamos tudo o que foi feito e criamos maneiras de mostrar nosso resultado graficamente, é importante deixar claro como nossa solução resolve o problema. Não devemos descartar os resultados \"menos positivos\" é comum que estes tenham muito a nos ensinar sobre o problema.\n",
    "\n",
    "8.  ***Faça a manutenção do sistema***  \n",
    "  Depois de tudo isso estabelecemos como nosso código e modelo será usado por outras pessoas. Normalmente é necessário um *pipeline* que faça todas as transformações nos dados que entrarão no sistema. O modelo deve ser acompanhado de perto verificando periodicamente se ele ainda é adequado ao problema. Muitas vezes os dados podem ter alguma modificação ou viés que muda a qualidade do nosso sistema."
   ]
  },
  {
   "attachments": {},
   "cell_type": "markdown",
   "metadata": {},
   "source": [
    "# Classificação<a id='Classificação'></a>\n",
    "\n",
    "## Temos que classificar\n",
    "\n",
    "Para entendermos como funciona a construção de modelo de machine learning no caso de classificação vamos usar um exemplo bem simples. Neste momento não se preocupe com o significado das linhas de código, apenas procure compreender os passos utilizados no processo.\n",
    "\n",
    "***O problema***\n",
    "\n",
    "Um pesquisador foi a campo coletar dados sobre dois pokemons, Pichu e Pikachu. Este pesquisador determinou que as características mais relevantes para classificar entre um dos dois são o ***comprimento da cauda*** e a ***largura das orelhas***.\n",
    "\n",
    "|<h1><center>Pichu</center></h1>        | <h1><center>Pikachu</center></h1>          |\n",
    "|:-------------------------------------:|:------------------------------------------:|\n",
    "|<img src=\"images/pichu.png\" alt=\"Pichu\" style=\"width: 200px;\"/>|<img src=\"images/pikachu.png\" alt=\"Pikachu\" style=\"width: 200px;\"/>|\n",
    "\n",
    "Nossa tarefa é utilizar Machine Learning para que apenas com os dados de ***comprimento da cauda*** e a ***largura das orelhas*** possamos identificar se o pokemon é um Pichu ou um Pikachu.\n",
    "\n",
    "***Consiga os dados***  \n",
    "Os dados que o pesquisador coletou estão na tabela abaixo:"
   ]
  },
  {
   "cell_type": "code",
   "execution_count": 217,
   "metadata": {},
   "outputs": [],
   "source": [
    "import numpy as np\n",
    "import pandas as pd\n",
    "import seaborn as sns\n",
    "import matplotlib.pyplot as plt\n",
    "%matplotlib inline\n",
    "\n",
    "# pokemon dataset\n",
    "pokemon = pd.read_csv(r\".\\datasets\\outros\\pokemon.csv\")\n",
    "pokemon = pokemon.drop('Unnamed: 0',axis=1)\n",
    "pokemon_test = pd.read_csv(r\".\\datasets\\outros\\pokemon_test.csv\")\n",
    "pokemon_test = pokemon_test.drop('Unnamed: 0',axis=1)"
   ]
  },
  {
   "cell_type": "code",
   "execution_count": 218,
   "metadata": {},
   "outputs": [
    {
     "data": {
      "text/html": [
       "<div>\n",
       "<style scoped>\n",
       "    .dataframe tbody tr th:only-of-type {\n",
       "        vertical-align: middle;\n",
       "    }\n",
       "\n",
       "    .dataframe tbody tr th {\n",
       "        vertical-align: top;\n",
       "    }\n",
       "\n",
       "    .dataframe thead th {\n",
       "        text-align: right;\n",
       "    }\n",
       "</style>\n",
       "<table border=\"1\" class=\"dataframe\">\n",
       "  <thead>\n",
       "    <tr style=\"text-align: right;\">\n",
       "      <th></th>\n",
       "      <th>Pokemon</th>\n",
       "      <th>Comprimento Cauda (cm)</th>\n",
       "      <th>Largura Orelha (cm)</th>\n",
       "    </tr>\n",
       "  </thead>\n",
       "  <tbody>\n",
       "    <tr>\n",
       "      <th>0</th>\n",
       "      <td>0</td>\n",
       "      <td>17.3</td>\n",
       "      <td>17.2</td>\n",
       "    </tr>\n",
       "    <tr>\n",
       "      <th>1</th>\n",
       "      <td>1</td>\n",
       "      <td>24.3</td>\n",
       "      <td>12.9</td>\n",
       "    </tr>\n",
       "    <tr>\n",
       "      <th>2</th>\n",
       "      <td>0</td>\n",
       "      <td>15.5</td>\n",
       "      <td>12.6</td>\n",
       "    </tr>\n",
       "    <tr>\n",
       "      <th>3</th>\n",
       "      <td>1</td>\n",
       "      <td>22.2</td>\n",
       "      <td>12.0</td>\n",
       "    </tr>\n",
       "    <tr>\n",
       "      <th>4</th>\n",
       "      <td>1</td>\n",
       "      <td>21.2</td>\n",
       "      <td>13.3</td>\n",
       "    </tr>\n",
       "  </tbody>\n",
       "</table>\n",
       "</div>"
      ],
      "text/plain": [
       "   Pokemon  Comprimento Cauda (cm)  Largura Orelha (cm)\n",
       "0        0                    17.3                 17.2\n",
       "1        1                    24.3                 12.9\n",
       "2        0                    15.5                 12.6\n",
       "3        1                    22.2                 12.0\n",
       "4        1                    21.2                 13.3"
      ]
     },
     "execution_count": 218,
     "metadata": {},
     "output_type": "execute_result"
    }
   ],
   "source": [
    "pokemon.head()"
   ]
  },
  {
   "cell_type": "markdown",
   "metadata": {},
   "source": [
    "***Explore os dados***\n",
    "\n",
    "Um dataset sempre deve trazer um arquivo contendo informações básicas, neste problema poderíamos obter a informação de que o valor $1$ na primeira coluna significa que os dados são de um Pikachu e consequentemente um valor $0$ são de um Pichu. O arquivo ainda poderia informar em que região os dados foram obtidos, em que período do ano, quem foi o pesquisador resposável pela coleta de dados, etc.  \n",
    "Vejamos alguns gráficos utilizando estes dados."
   ]
  },
  {
   "cell_type": "code",
   "execution_count": 483,
   "metadata": {},
   "outputs": [
    {
     "data": {
      "image/png": "[encoded data removed]",
      "text/plain": [
       "<Figure size 432x288 with 2 Axes>"
      ]
     },
     "metadata": {
      "needs_background": "light"
     },
     "output_type": "display_data"
    },
    {
     "data": {
      "text/plain": [
       "<Figure size 1080x720 with 0 Axes>"
      ]
     },
     "metadata": {},
     "output_type": "display_data"
    }
   ],
   "source": [
    "fig, (ax1, ax2) = plt.subplots(1, 2)\n",
    "plt.figure(figsize=(15,10))\n",
    "grid = sns.distplot(pokemon['Comprimento Cauda (cm)'], hist_kws={'edgecolor':'white'}, ax=ax1)\n",
    "grid = sns.distplot(pokemon['Largura Orelha (cm)'], hist_kws={'edgecolor':'white'}, ax=ax2)"
   ]
  },
  {
   "cell_type": "code",
   "execution_count": 442,
   "metadata": {},
   "outputs": [
    {
     "data": {
      "image/png": "[encoded data removed]",
      "text/plain": [
       "<Figure size 720x360 with 2 Axes>"
      ]
     },
     "metadata": {
      "needs_background": "light"
     },
     "output_type": "display_data"
    }
   ],
   "source": [
    "pokemon.plot(figsize=(10,5),kind=\"scatter\", x=\"Comprimento Cauda (cm)\", y=\"Largura Orelha (cm)\", c='Pokemon',colormap='winter');"
   ]
  },
  {
   "cell_type": "markdown",
   "metadata": {},
   "source": [
    "***Prepare os dados para Machine Learning***  \n",
    "\n",
    "Neste caso, os dados estão bons o suficiente e não precisamos de nenhuma transformação. Digamos que uma das medidas, por exemplo, tivesse sido feita em metros. É uma boa prática deixar os dados na mesma escala, então deixaríamos ambas medidas em metros ou centímetros."
   ]
  },
  {
   "cell_type": "markdown",
   "metadata": {},
   "source": [
    "***Escolha alguns modelos e os treine***\n",
    "\n",
    "Se encontrarmos um jeito de automaticamente separar as duas categorias com um reta, por exemplo:"
   ]
  },
  {
   "cell_type": "code",
   "execution_count": 220,
   "metadata": {},
   "outputs": [
    {
     "data": {
      "image/png": "[encoded data removed]",
      "text/plain": [
       "<Figure size 720x360 with 2 Axes>"
      ]
     },
     "metadata": {
      "needs_background": "light"
     },
     "output_type": "display_data"
    }
   ],
   "source": [
    "pokemon.plot(figsize=(10,5),kind=\"scatter\", x=\"Comprimento Cauda (cm)\", y=\"Largura Orelha (cm)\", alpha=0.9,c='Pokemon',colormap='winter');\n",
    "plt.plot([13.5,27],[10,18],'k');"
   ]
  },
  {
   "cell_type": "markdown",
   "metadata": {},
   "source": [
    "Sabemos que os dados que corresponderem a pontos superiores a reta são de Pichu (0) e pontos inferiores a reta são de Pikachu (1).  \n",
    "Claro que neste caso erraríamos ao analisar dois pontos, como você pode observar no gráfico, mas é um preço pequeno para poder automatizar este processo.  \n",
    "\n",
    "A representação matemática da reta acima, $y = ax+b$, pode ser encontrada facilmente quando há apenas duas variáveis no nosso problema, entretanto problemas reais podem possuir milhares de variáveis. Para nós humanos isso se torna inviável.\n",
    "\n",
    "Vamos então usar machine learning para descobrir qual é esta reta e quão perto ela chega de classificar corretamente estes pokemons. Para fins de comparação usaremos os algoritmos LogisticRegression e KNeighborsClassifer. Neste momento não vamos detalhar muito o que está sendo feito, pois este exemplo é mais ilustrativo, nas seções adiante nos aprofundaremos mais."
   ]
  },
  {
   "cell_type": "code",
   "execution_count": 221,
   "metadata": {},
   "outputs": [],
   "source": [
    "from sklearn.neighbors import KNeighborsClassifier\n",
    "from sklearn.linear_model import LogisticRegression\n",
    "\n",
    "poke_target = pokemon['Pokemon'].copy()\n",
    "poke_data = pokemon.drop('Pokemon',axis=1)\n",
    "poke_target_test = pokemon_test['Pokemon'].copy()\n",
    "poke_data_test = pokemon_test.drop('Pokemon',axis=1)\n",
    "knn = KNeighborsClassifier(n_neighbors=3)\n",
    "log = LogisticRegression()"
   ]
  },
  {
   "cell_type": "code",
   "execution_count": 425,
   "metadata": {
    "scrolled": true
   },
   "outputs": [
    {
     "data": {
      "text/plain": [
       "KNeighborsClassifier(algorithm='auto', leaf_size=25, metric='minkowski',\n",
       "           metric_params=None, n_jobs=1, n_neighbors=5, p=2,\n",
       "           weights='uniform')"
      ]
     },
     "execution_count": 425,
     "metadata": {},
     "output_type": "execute_result"
    }
   ],
   "source": [
    "# treina o classificador com os dados\n",
    "knn.fit(poke_data, poke_target)"
   ]
  },
  {
   "cell_type": "markdown",
   "metadata": {},
   "source": [
    "Ainda não vamos entrar em detalhes do funcionamento específico deste algoritmo, apenas vamos dizer que ele verifica, para um determinado sample, os 3 samples mais próximos dele e analisa a classificação destes pontos.<br>\n",
    "\n",
    "Com o treino feito vamos usar o que o algoritmo aprendeu e tentar prever o resultado de dados ainda desconhecidos, em 'pokemon_test'."
   ]
  },
  {
   "cell_type": "code",
   "execution_count": 406,
   "metadata": {},
   "outputs": [
    {
     "name": "stdout",
     "output_type": "stream",
     "text": [
      "Previsto para os 10 primeiros samples: [0 0 0 1 0 1 1 0 1 0]\n",
      "Classe real dos 10 primeiros samples:  [0 0 0 1 0 0 1 0 1 0]\n"
     ]
    }
   ],
   "source": [
    "poke_predict = knn.predict(poke_data_test)\n",
    "print('Previsto para os 10 primeiros samples:',poke_predict[:10])\n",
    "print('Classe real dos 10 primeiros samples: ',poke_target_test.values[:10])"
   ]
  },
  {
   "cell_type": "code",
   "execution_count": 407,
   "metadata": {},
   "outputs": [
    {
     "name": "stdout",
     "output_type": "stream",
     "text": [
      "0.98\n"
     ]
    }
   ],
   "source": [
    "# Verificando a acurácia média\n",
    "poke_score = knn.score(poke_data_test,poke_target_test)\n",
    "print(poke_score)"
   ]
  },
  {
   "cell_type": "markdown",
   "metadata": {},
   "source": [
    "Este valor quer dizer que 98% das previsões estavam corretas, mas a acurácia não é uma métrica definitiva. Vamos verificar a matriz de confusão (confusion matrix)."
   ]
  },
  {
   "cell_type": "code",
   "execution_count": 420,
   "metadata": {},
   "outputs": [
    {
     "name": "stdout",
     "output_type": "stream",
     "text": [
      "Confusion matrix, without normalization\n"
     ]
    },
    {
     "data": {
      "image/png": "[encoded data removed]",
      "text/plain": [
       "<Figure size 432x288 with 2 Axes>"
      ]
     },
     "metadata": {
      "needs_background": "light"
     },
     "output_type": "display_data"
    }
   ],
   "source": [
    "from sklearn.metrics import confusion_matrix\n",
    "cm = confusion_matrix(poke_predict,poke_target_test)\n",
    "\n",
    "import itertools\n",
    "def plot_confusion_matrix(cm, classes,\n",
    "                          normalize=False,\n",
    "                          title='Confusion matrix',\n",
    "                          cmap=plt.cm.Blues):\n",
    "    \"\"\"\n",
    "    This function prints and plots the confusion matrix.\n",
    "    Normalization can be applied by setting `normalize=True`.\n",
    "    \"\"\"\n",
    "    if normalize:\n",
    "        cm = cm.astype('float') / cm.sum(axis=1)[:, np.newaxis]\n",
    "        print(\"Normalized confusion matrix\")\n",
    "    else:\n",
    "        print('Confusion matrix, without normalization')\n",
    "\n",
    "    plt.imshow(cm, interpolation='nearest', cmap=cmap)\n",
    "    plt.title(title)\n",
    "    plt.colorbar()\n",
    "    tick_marks = np.arange(len(classes))\n",
    "    plt.xticks(tick_marks, classes, rotation=45)\n",
    "    plt.yticks(tick_marks, classes)\n",
    "\n",
    "    fmt = '.2f' if normalize else 'd'\n",
    "    thresh = cm.max() / 2.\n",
    "    for i, j in itertools.product(range(cm.shape[0]), range(cm.shape[1])):\n",
    "        plt.text(j, i, format(cm[i, j], fmt),\n",
    "                 horizontalalignment=\"center\",\n",
    "                 color=\"white\" if cm[i, j] > thresh else \"black\")\n",
    "\n",
    "    plt.tight_layout()\n",
    "    plt.ylabel('True label')\n",
    "    plt.xlabel('Predicted label')\n",
    "plot_confusion_matrix(cm, ['Pikachu','Pichu'],\n",
    "                          normalize=False,\n",
    "                          title='Confusion matrix',\n",
    "                          cmap=plt.cm.Blues)  "
   ]
  },
  {
   "cell_type": "markdown",
   "metadata": {},
   "source": [
    "A confusion matrix é uma maneira melhor de compreender os resultados da previsão. No nosso caso a classe positiva é 1, ou Pikachu e a classe negativa é 0, Pichu. Então temos\n",
    "-  TN - prevemos 24 samples pertencendo a classe Pikachu e acertamos;\n",
    "-  FP - prevemos 0 samples pertencendo a classe Pichu e erramos;\n",
    "-  FN - prevemos 1 sample pertencendo a classe Pikachu e erramos;\n",
    "-  TP - prevemos 25 samples pertencendo a classe Pichu e acertamos.\n",
    "\n",
    "Ou seja, o único erro foi proveniente de uma amostra na qual o algoritmo identificou como sendo um Pikachu, mas na verdade era um Pichu. Um caso ideal é composto apenas por valores na diagonal principal da matriz, ou seja, $FP$ e $FN$ nulos."
   ]
  },
  {
   "cell_type": "markdown",
   "metadata": {},
   "source": [
    "***Melhore o modelo***\n",
    "\n",
    "Para treinar o algoritmo acima utilizamos um parâmetro chamado 'n_neighbors' (número de primeiros vizinhos) igual a três. Cada algoritmo possui seus próprios parâmetros e a compreenssão dos mesmos é necessária para entender o que está ocorrendo e para encontrar o melhor modelo possível. Vamos agora verificar a chamada fronteira de decisão encontrada pelo KNeighborsClassifier com 1 e 3 vizinhos."
   ]
  },
  {
   "cell_type": "code",
   "execution_count": 307,
   "metadata": {},
   "outputs": [
    {
     "data": {
      "text/plain": [
       "<matplotlib.legend.Legend at 0x1789ad7668>"
      ]
     },
     "execution_count": 307,
     "metadata": {},
     "output_type": "execute_result"
    },
    {
     "data": {
      "image/png": "[encoded data removed]",
      "text/plain": [
       "<Figure size 1080x288 with 2 Axes>"
      ]
     },
     "metadata": {},
     "output_type": "display_data"
    }
   ],
   "source": [
    "import mglearn\n",
    "\n",
    "fig, axes = plt.subplots(1, 2, figsize=(15, 4))\n",
    "for n_neighbors, ax in zip([1, 3], axes):\n",
    "    clf = KNeighborsClassifier(n_neighbors=n_neighbors).fit(poke_data.values, poke_target.values)\n",
    "    mglearn.plots.plot_2d_separator(clf, poke_data_test.values, fill=True, eps=0.5, ax=ax, alpha=.4)\n",
    "    #mglearn.discrete_scatter(poke_data.values[:, 0], poke_data.values[:, 1], poke_target.values, ax=ax)\n",
    "    mglearn.discrete_scatter(poke_data_test.values[:, 0], poke_data_test.values[:, 1], poke_target_test.values, ax=ax)\n",
    "    ax.set_title(\"{} neighbor(s)\".format(n_neighbors))\n",
    "    ax.set_xlabel(\"Comprimento Cauda\")\n",
    "    ax.set_ylabel(\"Largura Orelha\")\n",
    "axes[0].legend(loc=3)"
   ]
  },
  {
   "cell_type": "markdown",
   "metadata": {},
   "source": [
    "Pelos gráficos, parece que se n_neighbors=1 o algoritmo está mais próximo de identificar corretamente todos os samples. Note que este algoritmo faz algo mais poderoso do que simplesmente traçar uma reta para dividir os datapoints, ele divide o gráfico em regiões diferentes onde habitam os pontos de cada classe."
   ]
  },
  {
   "cell_type": "code",
   "execution_count": 226,
   "metadata": {},
   "outputs": [
    {
     "data": {
      "text/plain": [
       "LogisticRegression(C=1.0, class_weight=None, dual=False, fit_intercept=True,\n",
       "          intercept_scaling=1, max_iter=100, multi_class='ovr', n_jobs=1,\n",
       "          penalty='l2', random_state=None, solver='liblinear', tol=0.0001,\n",
       "          verbose=0, warm_start=False)"
      ]
     },
     "execution_count": 226,
     "metadata": {},
     "output_type": "execute_result"
    }
   ],
   "source": [
    "# verificando com outros algoritmo\n",
    "log.fit(poke_data, poke_target)"
   ]
  },
  {
   "cell_type": "code",
   "execution_count": 227,
   "metadata": {},
   "outputs": [
    {
     "name": "stdout",
     "output_type": "stream",
     "text": [
      "0.96\n"
     ]
    }
   ],
   "source": [
    "poke_score_log = log.score(poke_data_test,poke_target_test)\n",
    "print(poke_score_log)"
   ]
  },
  {
   "cell_type": "code",
   "execution_count": 228,
   "metadata": {},
   "outputs": [
    {
     "name": "stdout",
     "output_type": "stream",
     "text": [
      "[0 0 0 1 0 1 1 0 1 0 0 1 1 1 1 1 1 1 0 0 0 0 1 1 1 0 0 0 1 0 0 0 1 0 1 1 1\n",
      " 1 0 0 1 0 1 1 0 0 0 1 0 1]\n"
     ]
    }
   ],
   "source": [
    "poke_predict_log = log.predict(poke_data_test)\n",
    "print('Previsto para os 10 primeiros samples:',poke_predict_log[:20])\n",
    "print('Classe real dos 10 primeiros samples: ',poke_target_test.values[:20])"
   ]
  },
  {
   "cell_type": "code",
   "execution_count": 270,
   "metadata": {},
   "outputs": [
    {
     "name": "stdout",
     "output_type": "stream",
     "text": [
      "Confusion matrix, without normalization\n"
     ]
    },
    {
     "data": {
      "image/png": "[encoded data removed]",
      "text/plain": [
       "<Figure size 432x288 with 2 Axes>"
      ]
     },
     "metadata": {
      "needs_background": "light"
     },
     "output_type": "display_data"
    }
   ],
   "source": [
    "cm2 = confusion_matrix(poke_predict_log,poke_target_test)\n",
    "plot_confusion_matrix(cm2, ['Pikachu','Pichu'],\n",
    "                          normalize=False,\n",
    "                          title='Confusion matrix',\n",
    "                          cmap=plt.cm.Blues) "
   ]
  },
  {
   "cell_type": "markdown",
   "metadata": {},
   "source": [
    "Para finalizar vamos verificar a decision boundary para LogisticRegression dois valores para o seu parâmetro C (veremos mais tarde o seu significado)."
   ]
  },
  {
   "cell_type": "code",
   "execution_count": 421,
   "metadata": {},
   "outputs": [
    {
     "data": {
      "text/plain": [
       "<matplotlib.legend.Legend at 0x17874cc4a8>"
      ]
     },
     "execution_count": 421,
     "metadata": {},
     "output_type": "execute_result"
    },
    {
     "data": {
      "image/png": "[encoded data removed]",
      "text/plain": [
       "<Figure size 1080x288 with 2 Axes>"
      ]
     },
     "metadata": {},
     "output_type": "display_data"
    }
   ],
   "source": [
    "fig, axes = plt.subplots(1, 2, figsize=(15, 4))\n",
    "for C, ax in zip([0.01,1.], axes):\n",
    "    clf = LogisticRegression(C=C).fit(poke_data.values, poke_target.values)\n",
    "    mglearn.plots.plot_2d_separator(clf, poke_data_test.values, fill=True, eps=0.5, ax=ax, alpha=.4)\n",
    "    mglearn.discrete_scatter(poke_data_test.values[:, 0], poke_data_test.values[:, 1], poke_target_test.values, ax=ax)\n",
    "    ax.set_title(\"C = {}\".format(C))\n",
    "    ax.set_xlabel(\"Comprimento Cauda\")\n",
    "    ax.set_ylabel(\"Largura Orelha\")\n",
    "axes[0].legend(loc=3)"
   ]
  },
  {
   "cell_type": "markdown",
   "metadata": {},
   "source": [
    "O resultado com este algoritmo foi diferente, ele usa uma reta, mas isso não significa que o KNeighborsClassifier sempre será melhor que LogisticRegression. Cada problema é único e devemos testar vários algoritmos afim de determinar qual especifica um modelo melhor."
   ]
  },
  {
   "cell_type": "markdown",
   "metadata": {},
   "source": [
    "***Apresente sua solução***\n",
    "\n",
    "Considerando que $FP$ ou $FN$ iguais a um são erros aceitáveis podemos escolher o algoritmos KNeighborsClassifier como o melhor para o problema. O que faríamos agora é utilizar novos dados no algoritmo já treinado usando o método *predict* para obter  classificação. Vejamos, digamos que um estagiário que não consegue classificar os dois pokemons foi a campo e voltou com as medidas:  \n",
    "\n",
    "|Comprimento da cauda (cm)|Largura da orelha (cm)|\n",
    "|:---:|:---:|\n",
    "|21.3|14.1|\n",
    "|18.4|17.6|\n",
    "\n",
    "Podemos usá-las da seguinte maneira:"
   ]
  },
  {
   "cell_type": "code",
   "execution_count": 467,
   "metadata": {},
   "outputs": [],
   "source": [
    "#poke_new_data = np.array([[medidas do sample 1],[medidas do sample 2]])\n",
    "poke_new_data = np.array([[21.3,14.1],[18.4,17.6]])"
   ]
  },
  {
   "cell_type": "code",
   "execution_count": 468,
   "metadata": {},
   "outputs": [
    {
     "name": "stdout",
     "output_type": "stream",
     "text": [
      "Previsão: [1 0]\n"
     ]
    }
   ],
   "source": [
    "poke_new_predict = knn.predict(poke_new_data)\n",
    "print('Previsão:',poke_new_predict)"
   ]
  },
  {
   "cell_type": "code",
   "execution_count": 469,
   "metadata": {
    "scrolled": true
   },
   "outputs": [
    {
     "data": {
      "text/plain": [
       "<matplotlib.legend.Legend at 0x17860435c0>"
      ]
     },
     "execution_count": 469,
     "metadata": {},
     "output_type": "execute_result"
    },
    {
     "data": {
      "image/png": "[encoded data removed]",
      "text/plain": [
       "<Figure size 1080x288 with 2 Axes>"
      ]
     },
     "metadata": {},
     "output_type": "display_data"
    }
   ],
   "source": [
    "fig, axes = plt.subplots(1, 2, figsize=(15, 4))\n",
    "for n_neighbors, ax in zip([1,3], axes):\n",
    "    clf = KNeighborsClassifier(n_neighbors=n_neighbors).fit(poke_data.values, poke_target.values)\n",
    "    mglearn.plots.plot_2d_separator(clf, poke_data.values, fill=True, eps=0.5, ax=ax, alpha=.4)\n",
    "    mglearn.discrete_scatter(poke_new_data[:, 0], poke_new_data[:, 1], poke_new_predict, ax=ax)\n",
    "    ax.set_title(\"{} neighbor(s)\".format(n_neighbors))\n",
    "    ax.set_xlabel(\"Comprimento Cauda\")\n",
    "    ax.set_ylabel(\"Largura Orelha\")\n",
    "axes[0].legend(loc=3)"
   ]
  },
  {
   "cell_type": "markdown",
   "metadata": {},
   "source": [
    "***Faça a manutenção do sistema***\n",
    "\n",
    "Este exemplo foi bem simples, poderíamos apenas indicar o algoritmo treinado e como utilizá-lo.\n",
    "\n",
    "Agora é hora de nos aprofundarmos em problemas mais complexos onde precisaremos de mais ferramentas para fazer boas previsões bem como outros algoritmos."
   ]
  },
  {
   "cell_type": "markdown",
   "metadata": {},
   "source": [
    "\n",
    "## Wisconsin Breast Cancer Dataset\n",
    "Este é um conjunto de dados reais que contem medidas clínicas relacionadas ao cancer de mama. Há duas classes possíveis como resultado da análise: benigno e maligno. Nossa tarefa é utilizar machine learning para prever se um cancer é maligno ou não baseado nas medidas do tecido. Se esta tarefa for bem sucedida não será necessário gastos extras como o tempo de especialistas ou exames clínicos adicionais.\n",
    "\n",
    "Vamos utilizar uma versão um pouco modificada da original, http://mlr.cs.umass.edu/ml/datasets/Breast+Cancer+Wisconsin+(Original)\n",
    "\n",
    "Citation Request:\n",
    "   This breast cancer databases was obtained from the University of Wisconsin    Hospitals, Madison from Dr. William H. Wolberg.  If you publish results when using this database, then please include this information in your acknowledgements.  Also, please cite one or more of:\n",
    "   1. O. L. Mangasarian and W. H. Wolberg: \"Cancer diagnosis via linear \n",
    "      programming\", SIAM News, Volume 23, Number 5, September 1990, pp 1 & 18.\n",
    "\n",
    "   2. William H. Wolberg and O.L. Mangasarian: \"Multisurface method of \n",
    "      pattern separation for medical diagnosis applied to breast cytology\", \n",
    "      Proceedings of the National Academy of Sciences, U.S.A., Volume 87, \n",
    "      December 1990, pp 9193-9196.\n",
    "\n",
    "   3. O. L. Mangasarian, R. Setiono, and W.H. Wolberg: \"Pattern recognition \n",
    "      via linear programming: Theory and application to medical diagnosis\", \n",
    "      in: \"Large-scale numerical optimization\", Thomas F. Coleman and Yuying\n",
    "      Li, editors, SIAM Publications, Philadelphia 1990, pp 22-30.\n",
    "\n",
    "   4. K. P. Bennett & O. L. Mangasarian: \"Robust linear programming \n",
    "      discrimination of two linearly inseparable sets\", Optimization Methods\n",
    "      and Software 1, 1992, 23-34 (Gordon & Breach Science Publishers)."
   ]
  },
  {
   "cell_type": "code",
   "execution_count": 230,
   "metadata": {},
   "outputs": [],
   "source": [
    "import numpy as np    # biblioteca científica\n",
    "import pandas as pd   # biblioteca para visualização e manipulação de dados\n",
    "# importamos o dataset\n",
    "cancer = pd.read_csv(r\".\\datasets\\Wisconsin\\data.csv\")\n",
    "cancer = cancer.drop('Unnamed: 32', axis=1)"
   ]
  },
  {
   "cell_type": "code",
   "execution_count": 231,
   "metadata": {},
   "outputs": [
    {
     "data": {
      "text/html": [
       "<div>\n",
       "<style scoped>\n",
       "    .dataframe tbody tr th:only-of-type {\n",
       "        vertical-align: middle;\n",
       "    }\n",
       "\n",
       "    .dataframe tbody tr th {\n",
       "        vertical-align: top;\n",
       "    }\n",
       "\n",
       "    .dataframe thead th {\n",
       "        text-align: right;\n",
       "    }\n",
       "</style>\n",
       "<table border=\"1\" class=\"dataframe\">\n",
       "  <thead>\n",
       "    <tr style=\"text-align: right;\">\n",
       "      <th></th>\n",
       "      <th>id</th>\n",
       "      <th>diagnosis</th>\n",
       "      <th>radius_mean</th>\n",
       "      <th>texture_mean</th>\n",
       "      <th>perimeter_mean</th>\n",
       "      <th>area_mean</th>\n",
       "      <th>smoothness_mean</th>\n",
       "      <th>compactness_mean</th>\n",
       "      <th>concavity_mean</th>\n",
       "      <th>concave points_mean</th>\n",
       "      <th>...</th>\n",
       "      <th>radius_worst</th>\n",
       "      <th>texture_worst</th>\n",
       "      <th>perimeter_worst</th>\n",
       "      <th>area_worst</th>\n",
       "      <th>smoothness_worst</th>\n",
       "      <th>compactness_worst</th>\n",
       "      <th>concavity_worst</th>\n",
       "      <th>concave points_worst</th>\n",
       "      <th>symmetry_worst</th>\n",
       "      <th>fractal_dimension_worst</th>\n",
       "    </tr>\n",
       "  </thead>\n",
       "  <tbody>\n",
       "    <tr>\n",
       "      <th>0</th>\n",
       "      <td>842302</td>\n",
       "      <td>M</td>\n",
       "      <td>17.99</td>\n",
       "      <td>10.38</td>\n",
       "      <td>122.80</td>\n",
       "      <td>1001.0</td>\n",
       "      <td>0.11840</td>\n",
       "      <td>0.27760</td>\n",
       "      <td>0.3001</td>\n",
       "      <td>0.14710</td>\n",
       "      <td>...</td>\n",
       "      <td>25.38</td>\n",
       "      <td>17.33</td>\n",
       "      <td>184.60</td>\n",
       "      <td>2019.0</td>\n",
       "      <td>0.1622</td>\n",
       "      <td>0.6656</td>\n",
       "      <td>0.7119</td>\n",
       "      <td>0.2654</td>\n",
       "      <td>0.4601</td>\n",
       "      <td>0.11890</td>\n",
       "    </tr>\n",
       "    <tr>\n",
       "      <th>1</th>\n",
       "      <td>842517</td>\n",
       "      <td>M</td>\n",
       "      <td>20.57</td>\n",
       "      <td>17.77</td>\n",
       "      <td>132.90</td>\n",
       "      <td>1326.0</td>\n",
       "      <td>0.08474</td>\n",
       "      <td>0.07864</td>\n",
       "      <td>0.0869</td>\n",
       "      <td>0.07017</td>\n",
       "      <td>...</td>\n",
       "      <td>24.99</td>\n",
       "      <td>23.41</td>\n",
       "      <td>158.80</td>\n",
       "      <td>1956.0</td>\n",
       "      <td>0.1238</td>\n",
       "      <td>0.1866</td>\n",
       "      <td>0.2416</td>\n",
       "      <td>0.1860</td>\n",
       "      <td>0.2750</td>\n",
       "      <td>0.08902</td>\n",
       "    </tr>\n",
       "    <tr>\n",
       "      <th>2</th>\n",
       "      <td>84300903</td>\n",
       "      <td>M</td>\n",
       "      <td>19.69</td>\n",
       "      <td>21.25</td>\n",
       "      <td>130.00</td>\n",
       "      <td>1203.0</td>\n",
       "      <td>0.10960</td>\n",
       "      <td>0.15990</td>\n",
       "      <td>0.1974</td>\n",
       "      <td>0.12790</td>\n",
       "      <td>...</td>\n",
       "      <td>23.57</td>\n",
       "      <td>25.53</td>\n",
       "      <td>152.50</td>\n",
       "      <td>1709.0</td>\n",
       "      <td>0.1444</td>\n",
       "      <td>0.4245</td>\n",
       "      <td>0.4504</td>\n",
       "      <td>0.2430</td>\n",
       "      <td>0.3613</td>\n",
       "      <td>0.08758</td>\n",
       "    </tr>\n",
       "    <tr>\n",
       "      <th>3</th>\n",
       "      <td>84348301</td>\n",
       "      <td>M</td>\n",
       "      <td>11.42</td>\n",
       "      <td>20.38</td>\n",
       "      <td>77.58</td>\n",
       "      <td>386.1</td>\n",
       "      <td>0.14250</td>\n",
       "      <td>0.28390</td>\n",
       "      <td>0.2414</td>\n",
       "      <td>0.10520</td>\n",
       "      <td>...</td>\n",
       "      <td>14.91</td>\n",
       "      <td>26.50</td>\n",
       "      <td>98.87</td>\n",
       "      <td>567.7</td>\n",
       "      <td>0.2098</td>\n",
       "      <td>0.8663</td>\n",
       "      <td>0.6869</td>\n",
       "      <td>0.2575</td>\n",
       "      <td>0.6638</td>\n",
       "      <td>0.17300</td>\n",
       "    </tr>\n",
       "    <tr>\n",
       "      <th>4</th>\n",
       "      <td>84358402</td>\n",
       "      <td>M</td>\n",
       "      <td>20.29</td>\n",
       "      <td>14.34</td>\n",
       "      <td>135.10</td>\n",
       "      <td>1297.0</td>\n",
       "      <td>0.10030</td>\n",
       "      <td>0.13280</td>\n",
       "      <td>0.1980</td>\n",
       "      <td>0.10430</td>\n",
       "      <td>...</td>\n",
       "      <td>22.54</td>\n",
       "      <td>16.67</td>\n",
       "      <td>152.20</td>\n",
       "      <td>1575.0</td>\n",
       "      <td>0.1374</td>\n",
       "      <td>0.2050</td>\n",
       "      <td>0.4000</td>\n",
       "      <td>0.1625</td>\n",
       "      <td>0.2364</td>\n",
       "      <td>0.07678</td>\n",
       "    </tr>\n",
       "  </tbody>\n",
       "</table>\n",
       "<p>5 rows × 32 columns</p>\n",
       "</div>"
      ],
      "text/plain": [
       "         id diagnosis  radius_mean  texture_mean  perimeter_mean  area_mean  \\\n",
       "0    842302         M        17.99         10.38          122.80     1001.0   \n",
       "1    842517         M        20.57         17.77          132.90     1326.0   \n",
       "2  84300903         M        19.69         21.25          130.00     1203.0   \n",
       "3  84348301         M        11.42         20.38           77.58      386.1   \n",
       "4  84358402         M        20.29         14.34          135.10     1297.0   \n",
       "\n",
       "   smoothness_mean  compactness_mean  concavity_mean  concave points_mean  \\\n",
       "0          0.11840           0.27760          0.3001              0.14710   \n",
       "1          0.08474           0.07864          0.0869              0.07017   \n",
       "2          0.10960           0.15990          0.1974              0.12790   \n",
       "3          0.14250           0.28390          0.2414              0.10520   \n",
       "4          0.10030           0.13280          0.1980              0.10430   \n",
       "\n",
       "            ...             radius_worst  texture_worst  perimeter_worst  \\\n",
       "0           ...                    25.38          17.33           184.60   \n",
       "1           ...                    24.99          23.41           158.80   \n",
       "2           ...                    23.57          25.53           152.50   \n",
       "3           ...                    14.91          26.50            98.87   \n",
       "4           ...                    22.54          16.67           152.20   \n",
       "\n",
       "   area_worst  smoothness_worst  compactness_worst  concavity_worst  \\\n",
       "0      2019.0            0.1622             0.6656           0.7119   \n",
       "1      1956.0            0.1238             0.1866           0.2416   \n",
       "2      1709.0            0.1444             0.4245           0.4504   \n",
       "3       567.7            0.2098             0.8663           0.6869   \n",
       "4      1575.0            0.1374             0.2050           0.4000   \n",
       "\n",
       "   concave points_worst  symmetry_worst  fractal_dimension_worst  \n",
       "0                0.2654          0.4601                  0.11890  \n",
       "1                0.1860          0.2750                  0.08902  \n",
       "2                0.2430          0.3613                  0.08758  \n",
       "3                0.2575          0.6638                  0.17300  \n",
       "4                0.1625          0.2364                  0.07678  \n",
       "\n",
       "[5 rows x 32 columns]"
      ]
     },
     "execution_count": 231,
     "metadata": {},
     "output_type": "execute_result"
    }
   ],
   "source": [
    "# verificando o que há no dataset\n",
    "cancer.head()"
   ]
  },
  {
   "cell_type": "code",
   "execution_count": 232,
   "metadata": {},
   "outputs": [
    {
     "data": {
      "text/plain": [
       "(569, 32)"
      ]
     },
     "execution_count": 232,
     "metadata": {},
     "output_type": "execute_result"
    }
   ],
   "source": [
    "# o dataset contém as medidas clínicas, neste caso temos 30 medidas (features) para cada uma das 569 amostras (samples)\n",
    "cancer.shape"
   ]
  },
  {
   "cell_type": "markdown",
   "metadata": {},
   "source": [
    "Vamos detalhar as informações contidas neste dataset:\n",
    "-  'id' é simplesmente uma identificação de cada amostra, não precisamos desta coluna;\n",
    "-  'diagnosis' traz a informação sobre o tumor ser benigno (B) ou maligno (M). Esta coluna é chamada de 'target' e é esta que pretendemos prever com o algoritmo;\n",
    "-  as demais colunas contêm as medidas clínicas sobre o tumor, estude-as por uns instantes."
   ]
  },
  {
   "cell_type": "markdown",
   "metadata": {},
   "source": [
    "Utilizando o método 'info()' no dataset podemos identificar o nome dos features, a quantidade de dados que cada um possui e que tipo de dado é este.<br>\n",
    "Vemos que todos os features possuem 569 entradas, isso é bom. Muitas vezes encontramos datasets com dados incompletos e precisamos utilizar estratégicas 'espertas' do ponto de vista estatístico para resolver este problema. Algumas vezes adicionamos algum valor nos faltantes (como a média) ou podemos descartar o sample com problema. Vemos que 'id' possui os dados como 'int64', isto se refere a números inteiros, enquanto os demais features são 'float64', números reais (com casas decimais). Já 'diagnosis' tem dados do tipo 'object', ou seja, texto."
   ]
  },
  {
   "cell_type": "code",
   "execution_count": 233,
   "metadata": {
    "scrolled": true
   },
   "outputs": [
    {
     "data": {
      "text/plain": [
       "Index(['id', 'diagnosis', 'radius_mean', 'texture_mean', 'perimeter_mean',\n",
       "       'area_mean', 'smoothness_mean', 'compactness_mean', 'concavity_mean',\n",
       "       'concave points_mean', 'symmetry_mean', 'fractal_dimension_mean',\n",
       "       'radius_se', 'texture_se', 'perimeter_se', 'area_se', 'smoothness_se',\n",
       "       'compactness_se', 'concavity_se', 'concave points_se', 'symmetry_se',\n",
       "       'fractal_dimension_se', 'radius_worst', 'texture_worst',\n",
       "       'perimeter_worst', 'area_worst', 'smoothness_worst',\n",
       "       'compactness_worst', 'concavity_worst', 'concave points_worst',\n",
       "       'symmetry_worst', 'fractal_dimension_worst'],\n",
       "      dtype='object')"
      ]
     },
     "execution_count": 233,
     "metadata": {},
     "output_type": "execute_result"
    }
   ],
   "source": [
    "# verificando o nome de cada coluna\n",
    "cancer.columns"
   ]
  },
  {
   "cell_type": "code",
   "execution_count": 234,
   "metadata": {},
   "outputs": [],
   "source": [
    "# descartando 'id'\n",
    "cancer = cancer.drop('id', axis=1)"
   ]
  },
  {
   "cell_type": "code",
   "execution_count": 235,
   "metadata": {},
   "outputs": [
    {
     "data": {
      "text/html": [
       "<div>\n",
       "<style scoped>\n",
       "    .dataframe tbody tr th:only-of-type {\n",
       "        vertical-align: middle;\n",
       "    }\n",
       "\n",
       "    .dataframe tbody tr th {\n",
       "        vertical-align: top;\n",
       "    }\n",
       "\n",
       "    .dataframe thead th {\n",
       "        text-align: right;\n",
       "    }\n",
       "</style>\n",
       "<table border=\"1\" class=\"dataframe\">\n",
       "  <thead>\n",
       "    <tr style=\"text-align: right;\">\n",
       "      <th></th>\n",
       "      <th>diagnosis</th>\n",
       "      <th>radius_mean</th>\n",
       "      <th>texture_mean</th>\n",
       "      <th>perimeter_mean</th>\n",
       "      <th>area_mean</th>\n",
       "      <th>smoothness_mean</th>\n",
       "      <th>compactness_mean</th>\n",
       "      <th>concavity_mean</th>\n",
       "      <th>concave points_mean</th>\n",
       "      <th>symmetry_mean</th>\n",
       "      <th>...</th>\n",
       "      <th>radius_worst</th>\n",
       "      <th>texture_worst</th>\n",
       "      <th>perimeter_worst</th>\n",
       "      <th>area_worst</th>\n",
       "      <th>smoothness_worst</th>\n",
       "      <th>compactness_worst</th>\n",
       "      <th>concavity_worst</th>\n",
       "      <th>concave points_worst</th>\n",
       "      <th>symmetry_worst</th>\n",
       "      <th>fractal_dimension_worst</th>\n",
       "    </tr>\n",
       "  </thead>\n",
       "  <tbody>\n",
       "    <tr>\n",
       "      <th>0</th>\n",
       "      <td>M</td>\n",
       "      <td>17.99</td>\n",
       "      <td>10.38</td>\n",
       "      <td>122.80</td>\n",
       "      <td>1001.0</td>\n",
       "      <td>0.11840</td>\n",
       "      <td>0.27760</td>\n",
       "      <td>0.3001</td>\n",
       "      <td>0.14710</td>\n",
       "      <td>0.2419</td>\n",
       "      <td>...</td>\n",
       "      <td>25.38</td>\n",
       "      <td>17.33</td>\n",
       "      <td>184.60</td>\n",
       "      <td>2019.0</td>\n",
       "      <td>0.1622</td>\n",
       "      <td>0.6656</td>\n",
       "      <td>0.7119</td>\n",
       "      <td>0.2654</td>\n",
       "      <td>0.4601</td>\n",
       "      <td>0.11890</td>\n",
       "    </tr>\n",
       "    <tr>\n",
       "      <th>1</th>\n",
       "      <td>M</td>\n",
       "      <td>20.57</td>\n",
       "      <td>17.77</td>\n",
       "      <td>132.90</td>\n",
       "      <td>1326.0</td>\n",
       "      <td>0.08474</td>\n",
       "      <td>0.07864</td>\n",
       "      <td>0.0869</td>\n",
       "      <td>0.07017</td>\n",
       "      <td>0.1812</td>\n",
       "      <td>...</td>\n",
       "      <td>24.99</td>\n",
       "      <td>23.41</td>\n",
       "      <td>158.80</td>\n",
       "      <td>1956.0</td>\n",
       "      <td>0.1238</td>\n",
       "      <td>0.1866</td>\n",
       "      <td>0.2416</td>\n",
       "      <td>0.1860</td>\n",
       "      <td>0.2750</td>\n",
       "      <td>0.08902</td>\n",
       "    </tr>\n",
       "    <tr>\n",
       "      <th>2</th>\n",
       "      <td>M</td>\n",
       "      <td>19.69</td>\n",
       "      <td>21.25</td>\n",
       "      <td>130.00</td>\n",
       "      <td>1203.0</td>\n",
       "      <td>0.10960</td>\n",
       "      <td>0.15990</td>\n",
       "      <td>0.1974</td>\n",
       "      <td>0.12790</td>\n",
       "      <td>0.2069</td>\n",
       "      <td>...</td>\n",
       "      <td>23.57</td>\n",
       "      <td>25.53</td>\n",
       "      <td>152.50</td>\n",
       "      <td>1709.0</td>\n",
       "      <td>0.1444</td>\n",
       "      <td>0.4245</td>\n",
       "      <td>0.4504</td>\n",
       "      <td>0.2430</td>\n",
       "      <td>0.3613</td>\n",
       "      <td>0.08758</td>\n",
       "    </tr>\n",
       "    <tr>\n",
       "      <th>3</th>\n",
       "      <td>M</td>\n",
       "      <td>11.42</td>\n",
       "      <td>20.38</td>\n",
       "      <td>77.58</td>\n",
       "      <td>386.1</td>\n",
       "      <td>0.14250</td>\n",
       "      <td>0.28390</td>\n",
       "      <td>0.2414</td>\n",
       "      <td>0.10520</td>\n",
       "      <td>0.2597</td>\n",
       "      <td>...</td>\n",
       "      <td>14.91</td>\n",
       "      <td>26.50</td>\n",
       "      <td>98.87</td>\n",
       "      <td>567.7</td>\n",
       "      <td>0.2098</td>\n",
       "      <td>0.8663</td>\n",
       "      <td>0.6869</td>\n",
       "      <td>0.2575</td>\n",
       "      <td>0.6638</td>\n",
       "      <td>0.17300</td>\n",
       "    </tr>\n",
       "    <tr>\n",
       "      <th>4</th>\n",
       "      <td>M</td>\n",
       "      <td>20.29</td>\n",
       "      <td>14.34</td>\n",
       "      <td>135.10</td>\n",
       "      <td>1297.0</td>\n",
       "      <td>0.10030</td>\n",
       "      <td>0.13280</td>\n",
       "      <td>0.1980</td>\n",
       "      <td>0.10430</td>\n",
       "      <td>0.1809</td>\n",
       "      <td>...</td>\n",
       "      <td>22.54</td>\n",
       "      <td>16.67</td>\n",
       "      <td>152.20</td>\n",
       "      <td>1575.0</td>\n",
       "      <td>0.1374</td>\n",
       "      <td>0.2050</td>\n",
       "      <td>0.4000</td>\n",
       "      <td>0.1625</td>\n",
       "      <td>0.2364</td>\n",
       "      <td>0.07678</td>\n",
       "    </tr>\n",
       "  </tbody>\n",
       "</table>\n",
       "<p>5 rows × 31 columns</p>\n",
       "</div>"
      ],
      "text/plain": [
       "  diagnosis  radius_mean  texture_mean  perimeter_mean  area_mean  \\\n",
       "0         M        17.99         10.38          122.80     1001.0   \n",
       "1         M        20.57         17.77          132.90     1326.0   \n",
       "2         M        19.69         21.25          130.00     1203.0   \n",
       "3         M        11.42         20.38           77.58      386.1   \n",
       "4         M        20.29         14.34          135.10     1297.0   \n",
       "\n",
       "   smoothness_mean  compactness_mean  concavity_mean  concave points_mean  \\\n",
       "0          0.11840           0.27760          0.3001              0.14710   \n",
       "1          0.08474           0.07864          0.0869              0.07017   \n",
       "2          0.10960           0.15990          0.1974              0.12790   \n",
       "3          0.14250           0.28390          0.2414              0.10520   \n",
       "4          0.10030           0.13280          0.1980              0.10430   \n",
       "\n",
       "   symmetry_mean           ...             radius_worst  texture_worst  \\\n",
       "0         0.2419           ...                    25.38          17.33   \n",
       "1         0.1812           ...                    24.99          23.41   \n",
       "2         0.2069           ...                    23.57          25.53   \n",
       "3         0.2597           ...                    14.91          26.50   \n",
       "4         0.1809           ...                    22.54          16.67   \n",
       "\n",
       "   perimeter_worst  area_worst  smoothness_worst  compactness_worst  \\\n",
       "0           184.60      2019.0            0.1622             0.6656   \n",
       "1           158.80      1956.0            0.1238             0.1866   \n",
       "2           152.50      1709.0            0.1444             0.4245   \n",
       "3            98.87       567.7            0.2098             0.8663   \n",
       "4           152.20      1575.0            0.1374             0.2050   \n",
       "\n",
       "   concavity_worst  concave points_worst  symmetry_worst  \\\n",
       "0           0.7119                0.2654          0.4601   \n",
       "1           0.2416                0.1860          0.2750   \n",
       "2           0.4504                0.2430          0.3613   \n",
       "3           0.6869                0.2575          0.6638   \n",
       "4           0.4000                0.1625          0.2364   \n",
       "\n",
       "   fractal_dimension_worst  \n",
       "0                  0.11890  \n",
       "1                  0.08902  \n",
       "2                  0.08758  \n",
       "3                  0.17300  \n",
       "4                  0.07678  \n",
       "\n",
       "[5 rows x 31 columns]"
      ]
     },
     "execution_count": 235,
     "metadata": {},
     "output_type": "execute_result"
    }
   ],
   "source": [
    "cancer.head()"
   ]
  },
  {
   "cell_type": "code",
   "execution_count": 236,
   "metadata": {},
   "outputs": [
    {
     "name": "stdout",
     "output_type": "stream",
     "text": [
      "<class 'pandas.core.frame.DataFrame'>\n",
      "RangeIndex: 569 entries, 0 to 568\n",
      "Data columns (total 31 columns):\n",
      "diagnosis                  569 non-null object\n",
      "radius_mean                569 non-null float64\n",
      "texture_mean               569 non-null float64\n",
      "perimeter_mean             569 non-null float64\n",
      "area_mean                  569 non-null float64\n",
      "smoothness_mean            569 non-null float64\n",
      "compactness_mean           569 non-null float64\n",
      "concavity_mean             569 non-null float64\n",
      "concave points_mean        569 non-null float64\n",
      "symmetry_mean              569 non-null float64\n",
      "fractal_dimension_mean     569 non-null float64\n",
      "radius_se                  569 non-null float64\n",
      "texture_se                 569 non-null float64\n",
      "perimeter_se               569 non-null float64\n",
      "area_se                    569 non-null float64\n",
      "smoothness_se              569 non-null float64\n",
      "compactness_se             569 non-null float64\n",
      "concavity_se               569 non-null float64\n",
      "concave points_se          569 non-null float64\n",
      "symmetry_se                569 non-null float64\n",
      "fractal_dimension_se       569 non-null float64\n",
      "radius_worst               569 non-null float64\n",
      "texture_worst              569 non-null float64\n",
      "perimeter_worst            569 non-null float64\n",
      "area_worst                 569 non-null float64\n",
      "smoothness_worst           569 non-null float64\n",
      "compactness_worst          569 non-null float64\n",
      "concavity_worst            569 non-null float64\n",
      "concave points_worst       569 non-null float64\n",
      "symmetry_worst             569 non-null float64\n",
      "fractal_dimension_worst    569 non-null float64\n",
      "dtypes: float64(30), object(1)\n",
      "memory usage: 137.9+ KB\n"
     ]
    }
   ],
   "source": [
    "cancer.info()"
   ]
  },
  {
   "cell_type": "markdown",
   "metadata": {},
   "source": [
    "O método 'describe()' nos mostra algumas informações sobre as colunas numéricas:\n",
    "-  'count' - quantas entradas o feature possui;\n",
    "-  'mean' - a média das medidas;\n",
    "-  'std' - o desvio padrão;\n",
    "-  'min' - o valor mínimo encontrado;\n",
    "-  'max' - o valor máximo;\n",
    "-  '25%' - o valor de separa os 25% menores valores;\n",
    "-  '50%' - o valor de separa as medidas em dois, mais conhecido como mediana;\n",
    "-  '75%' - o valor de separa os 75% menores valores;"
   ]
  },
  {
   "cell_type": "code",
   "execution_count": 237,
   "metadata": {},
   "outputs": [
    {
     "data": {
      "text/html": [
       "<div>\n",
       "<style scoped>\n",
       "    .dataframe tbody tr th:only-of-type {\n",
       "        vertical-align: middle;\n",
       "    }\n",
       "\n",
       "    .dataframe tbody tr th {\n",
       "        vertical-align: top;\n",
       "    }\n",
       "\n",
       "    .dataframe thead th {\n",
       "        text-align: right;\n",
       "    }\n",
       "</style>\n",
       "<table border=\"1\" class=\"dataframe\">\n",
       "  <thead>\n",
       "    <tr style=\"text-align: right;\">\n",
       "      <th></th>\n",
       "      <th>radius_mean</th>\n",
       "      <th>texture_mean</th>\n",
       "      <th>perimeter_mean</th>\n",
       "      <th>area_mean</th>\n",
       "      <th>smoothness_mean</th>\n",
       "      <th>compactness_mean</th>\n",
       "      <th>concavity_mean</th>\n",
       "      <th>concave points_mean</th>\n",
       "      <th>symmetry_mean</th>\n",
       "      <th>fractal_dimension_mean</th>\n",
       "      <th>...</th>\n",
       "      <th>radius_worst</th>\n",
       "      <th>texture_worst</th>\n",
       "      <th>perimeter_worst</th>\n",
       "      <th>area_worst</th>\n",
       "      <th>smoothness_worst</th>\n",
       "      <th>compactness_worst</th>\n",
       "      <th>concavity_worst</th>\n",
       "      <th>concave points_worst</th>\n",
       "      <th>symmetry_worst</th>\n",
       "      <th>fractal_dimension_worst</th>\n",
       "    </tr>\n",
       "  </thead>\n",
       "  <tbody>\n",
       "    <tr>\n",
       "      <th>count</th>\n",
       "      <td>569.000000</td>\n",
       "      <td>569.000000</td>\n",
       "      <td>569.000000</td>\n",
       "      <td>569.000000</td>\n",
       "      <td>569.000000</td>\n",
       "      <td>569.000000</td>\n",
       "      <td>569.000000</td>\n",
       "      <td>569.000000</td>\n",
       "      <td>569.000000</td>\n",
       "      <td>569.000000</td>\n",
       "      <td>...</td>\n",
       "      <td>569.000000</td>\n",
       "      <td>569.000000</td>\n",
       "      <td>569.000000</td>\n",
       "      <td>569.000000</td>\n",
       "      <td>569.000000</td>\n",
       "      <td>569.000000</td>\n",
       "      <td>569.000000</td>\n",
       "      <td>569.000000</td>\n",
       "      <td>569.000000</td>\n",
       "      <td>569.000000</td>\n",
       "    </tr>\n",
       "    <tr>\n",
       "      <th>mean</th>\n",
       "      <td>14.127292</td>\n",
       "      <td>19.289649</td>\n",
       "      <td>91.969033</td>\n",
       "      <td>654.889104</td>\n",
       "      <td>0.096360</td>\n",
       "      <td>0.104341</td>\n",
       "      <td>0.088799</td>\n",
       "      <td>0.048919</td>\n",
       "      <td>0.181162</td>\n",
       "      <td>0.062798</td>\n",
       "      <td>...</td>\n",
       "      <td>16.269190</td>\n",
       "      <td>25.677223</td>\n",
       "      <td>107.261213</td>\n",
       "      <td>880.583128</td>\n",
       "      <td>0.132369</td>\n",
       "      <td>0.254265</td>\n",
       "      <td>0.272188</td>\n",
       "      <td>0.114606</td>\n",
       "      <td>0.290076</td>\n",
       "      <td>0.083946</td>\n",
       "    </tr>\n",
       "    <tr>\n",
       "      <th>std</th>\n",
       "      <td>3.524049</td>\n",
       "      <td>4.301036</td>\n",
       "      <td>24.298981</td>\n",
       "      <td>351.914129</td>\n",
       "      <td>0.014064</td>\n",
       "      <td>0.052813</td>\n",
       "      <td>0.079720</td>\n",
       "      <td>0.038803</td>\n",
       "      <td>0.027414</td>\n",
       "      <td>0.007060</td>\n",
       "      <td>...</td>\n",
       "      <td>4.833242</td>\n",
       "      <td>6.146258</td>\n",
       "      <td>33.602542</td>\n",
       "      <td>569.356993</td>\n",
       "      <td>0.022832</td>\n",
       "      <td>0.157336</td>\n",
       "      <td>0.208624</td>\n",
       "      <td>0.065732</td>\n",
       "      <td>0.061867</td>\n",
       "      <td>0.018061</td>\n",
       "    </tr>\n",
       "    <tr>\n",
       "      <th>min</th>\n",
       "      <td>6.981000</td>\n",
       "      <td>9.710000</td>\n",
       "      <td>43.790000</td>\n",
       "      <td>143.500000</td>\n",
       "      <td>0.052630</td>\n",
       "      <td>0.019380</td>\n",
       "      <td>0.000000</td>\n",
       "      <td>0.000000</td>\n",
       "      <td>0.106000</td>\n",
       "      <td>0.049960</td>\n",
       "      <td>...</td>\n",
       "      <td>7.930000</td>\n",
       "      <td>12.020000</td>\n",
       "      <td>50.410000</td>\n",
       "      <td>185.200000</td>\n",
       "      <td>0.071170</td>\n",
       "      <td>0.027290</td>\n",
       "      <td>0.000000</td>\n",
       "      <td>0.000000</td>\n",
       "      <td>0.156500</td>\n",
       "      <td>0.055040</td>\n",
       "    </tr>\n",
       "    <tr>\n",
       "      <th>25%</th>\n",
       "      <td>11.700000</td>\n",
       "      <td>16.170000</td>\n",
       "      <td>75.170000</td>\n",
       "      <td>420.300000</td>\n",
       "      <td>0.086370</td>\n",
       "      <td>0.064920</td>\n",
       "      <td>0.029560</td>\n",
       "      <td>0.020310</td>\n",
       "      <td>0.161900</td>\n",
       "      <td>0.057700</td>\n",
       "      <td>...</td>\n",
       "      <td>13.010000</td>\n",
       "      <td>21.080000</td>\n",
       "      <td>84.110000</td>\n",
       "      <td>515.300000</td>\n",
       "      <td>0.116600</td>\n",
       "      <td>0.147200</td>\n",
       "      <td>0.114500</td>\n",
       "      <td>0.064930</td>\n",
       "      <td>0.250400</td>\n",
       "      <td>0.071460</td>\n",
       "    </tr>\n",
       "    <tr>\n",
       "      <th>50%</th>\n",
       "      <td>13.370000</td>\n",
       "      <td>18.840000</td>\n",
       "      <td>86.240000</td>\n",
       "      <td>551.100000</td>\n",
       "      <td>0.095870</td>\n",
       "      <td>0.092630</td>\n",
       "      <td>0.061540</td>\n",
       "      <td>0.033500</td>\n",
       "      <td>0.179200</td>\n",
       "      <td>0.061540</td>\n",
       "      <td>...</td>\n",
       "      <td>14.970000</td>\n",
       "      <td>25.410000</td>\n",
       "      <td>97.660000</td>\n",
       "      <td>686.500000</td>\n",
       "      <td>0.131300</td>\n",
       "      <td>0.211900</td>\n",
       "      <td>0.226700</td>\n",
       "      <td>0.099930</td>\n",
       "      <td>0.282200</td>\n",
       "      <td>0.080040</td>\n",
       "    </tr>\n",
       "    <tr>\n",
       "      <th>75%</th>\n",
       "      <td>15.780000</td>\n",
       "      <td>21.800000</td>\n",
       "      <td>104.100000</td>\n",
       "      <td>782.700000</td>\n",
       "      <td>0.105300</td>\n",
       "      <td>0.130400</td>\n",
       "      <td>0.130700</td>\n",
       "      <td>0.074000</td>\n",
       "      <td>0.195700</td>\n",
       "      <td>0.066120</td>\n",
       "      <td>...</td>\n",
       "      <td>18.790000</td>\n",
       "      <td>29.720000</td>\n",
       "      <td>125.400000</td>\n",
       "      <td>1084.000000</td>\n",
       "      <td>0.146000</td>\n",
       "      <td>0.339100</td>\n",
       "      <td>0.382900</td>\n",
       "      <td>0.161400</td>\n",
       "      <td>0.317900</td>\n",
       "      <td>0.092080</td>\n",
       "    </tr>\n",
       "    <tr>\n",
       "      <th>max</th>\n",
       "      <td>28.110000</td>\n",
       "      <td>39.280000</td>\n",
       "      <td>188.500000</td>\n",
       "      <td>2501.000000</td>\n",
       "      <td>0.163400</td>\n",
       "      <td>0.345400</td>\n",
       "      <td>0.426800</td>\n",
       "      <td>0.201200</td>\n",
       "      <td>0.304000</td>\n",
       "      <td>0.097440</td>\n",
       "      <td>...</td>\n",
       "      <td>36.040000</td>\n",
       "      <td>49.540000</td>\n",
       "      <td>251.200000</td>\n",
       "      <td>4254.000000</td>\n",
       "      <td>0.222600</td>\n",
       "      <td>1.058000</td>\n",
       "      <td>1.252000</td>\n",
       "      <td>0.291000</td>\n",
       "      <td>0.663800</td>\n",
       "      <td>0.207500</td>\n",
       "    </tr>\n",
       "  </tbody>\n",
       "</table>\n",
       "<p>8 rows × 30 columns</p>\n",
       "</div>"
      ],
      "text/plain": [
       "       radius_mean  texture_mean  perimeter_mean    area_mean  \\\n",
       "count   569.000000    569.000000      569.000000   569.000000   \n",
       "mean     14.127292     19.289649       91.969033   654.889104   \n",
       "std       3.524049      4.301036       24.298981   351.914129   \n",
       "min       6.981000      9.710000       43.790000   143.500000   \n",
       "25%      11.700000     16.170000       75.170000   420.300000   \n",
       "50%      13.370000     18.840000       86.240000   551.100000   \n",
       "75%      15.780000     21.800000      104.100000   782.700000   \n",
       "max      28.110000     39.280000      188.500000  2501.000000   \n",
       "\n",
       "       smoothness_mean  compactness_mean  concavity_mean  concave points_mean  \\\n",
       "count       569.000000        569.000000      569.000000           569.000000   \n",
       "mean          0.096360          0.104341        0.088799             0.048919   \n",
       "std           0.014064          0.052813        0.079720             0.038803   \n",
       "min           0.052630          0.019380        0.000000             0.000000   \n",
       "25%           0.086370          0.064920        0.029560             0.020310   \n",
       "50%           0.095870          0.092630        0.061540             0.033500   \n",
       "75%           0.105300          0.130400        0.130700             0.074000   \n",
       "max           0.163400          0.345400        0.426800             0.201200   \n",
       "\n",
       "       symmetry_mean  fractal_dimension_mean           ...             \\\n",
       "count     569.000000              569.000000           ...              \n",
       "mean        0.181162                0.062798           ...              \n",
       "std         0.027414                0.007060           ...              \n",
       "min         0.106000                0.049960           ...              \n",
       "25%         0.161900                0.057700           ...              \n",
       "50%         0.179200                0.061540           ...              \n",
       "75%         0.195700                0.066120           ...              \n",
       "max         0.304000                0.097440           ...              \n",
       "\n",
       "       radius_worst  texture_worst  perimeter_worst   area_worst  \\\n",
       "count    569.000000     569.000000       569.000000   569.000000   \n",
       "mean      16.269190      25.677223       107.261213   880.583128   \n",
       "std        4.833242       6.146258        33.602542   569.356993   \n",
       "min        7.930000      12.020000        50.410000   185.200000   \n",
       "25%       13.010000      21.080000        84.110000   515.300000   \n",
       "50%       14.970000      25.410000        97.660000   686.500000   \n",
       "75%       18.790000      29.720000       125.400000  1084.000000   \n",
       "max       36.040000      49.540000       251.200000  4254.000000   \n",
       "\n",
       "       smoothness_worst  compactness_worst  concavity_worst  \\\n",
       "count        569.000000         569.000000       569.000000   \n",
       "mean           0.132369           0.254265         0.272188   \n",
       "std            0.022832           0.157336         0.208624   \n",
       "min            0.071170           0.027290         0.000000   \n",
       "25%            0.116600           0.147200         0.114500   \n",
       "50%            0.131300           0.211900         0.226700   \n",
       "75%            0.146000           0.339100         0.382900   \n",
       "max            0.222600           1.058000         1.252000   \n",
       "\n",
       "       concave points_worst  symmetry_worst  fractal_dimension_worst  \n",
       "count            569.000000      569.000000               569.000000  \n",
       "mean               0.114606        0.290076                 0.083946  \n",
       "std                0.065732        0.061867                 0.018061  \n",
       "min                0.000000        0.156500                 0.055040  \n",
       "25%                0.064930        0.250400                 0.071460  \n",
       "50%                0.099930        0.282200                 0.080040  \n",
       "75%                0.161400        0.317900                 0.092080  \n",
       "max                0.291000        0.663800                 0.207500  \n",
       "\n",
       "[8 rows x 30 columns]"
      ]
     },
     "execution_count": 237,
     "metadata": {},
     "output_type": "execute_result"
    }
   ],
   "source": [
    "cancer.describe()"
   ]
  },
  {
   "cell_type": "code",
   "execution_count": 238,
   "metadata": {},
   "outputs": [
    {
     "data": {
      "text/plain": [
       "diagnosis                         M\n",
       "radius_mean                   17.99\n",
       "texture_mean                  10.38\n",
       "perimeter_mean                122.8\n",
       "area_mean                      1001\n",
       "smoothness_mean              0.1184\n",
       "compactness_mean             0.2776\n",
       "concavity_mean               0.3001\n",
       "concave points_mean          0.1471\n",
       "symmetry_mean                0.2419\n",
       "fractal_dimension_mean      0.07871\n",
       "radius_se                     1.095\n",
       "texture_se                   0.9053\n",
       "perimeter_se                  8.589\n",
       "area_se                       153.4\n",
       "smoothness_se              0.006399\n",
       "compactness_se              0.04904\n",
       "concavity_se                0.05373\n",
       "concave points_se           0.01587\n",
       "symmetry_se                 0.03003\n",
       "fractal_dimension_se       0.006193\n",
       "radius_worst                  25.38\n",
       "texture_worst                 17.33\n",
       "perimeter_worst               184.6\n",
       "area_worst                     2019\n",
       "smoothness_worst             0.1622\n",
       "compactness_worst            0.6656\n",
       "concavity_worst              0.7119\n",
       "concave points_worst         0.2654\n",
       "symmetry_worst               0.4601\n",
       "fractal_dimension_worst      0.1189\n",
       "Name: 0, dtype: object"
      ]
     },
     "execution_count": 238,
     "metadata": {},
     "output_type": "execute_result"
    }
   ],
   "source": [
    "# visualizando os dados da primeira amostra\n",
    "cancer.iloc[0]"
   ]
  },
  {
   "cell_type": "code",
   "execution_count": 239,
   "metadata": {},
   "outputs": [
    {
     "data": {
      "text/html": [
       "<div>\n",
       "<style scoped>\n",
       "    .dataframe tbody tr th:only-of-type {\n",
       "        vertical-align: middle;\n",
       "    }\n",
       "\n",
       "    .dataframe tbody tr th {\n",
       "        vertical-align: top;\n",
       "    }\n",
       "\n",
       "    .dataframe thead th {\n",
       "        text-align: right;\n",
       "    }\n",
       "</style>\n",
       "<table border=\"1\" class=\"dataframe\">\n",
       "  <thead>\n",
       "    <tr style=\"text-align: right;\">\n",
       "      <th></th>\n",
       "      <th>diagnosis</th>\n",
       "      <th>radius_mean</th>\n",
       "      <th>texture_mean</th>\n",
       "      <th>perimeter_mean</th>\n",
       "      <th>area_mean</th>\n",
       "      <th>smoothness_mean</th>\n",
       "      <th>compactness_mean</th>\n",
       "      <th>concavity_mean</th>\n",
       "      <th>concave points_mean</th>\n",
       "      <th>symmetry_mean</th>\n",
       "      <th>...</th>\n",
       "      <th>radius_worst</th>\n",
       "      <th>texture_worst</th>\n",
       "      <th>perimeter_worst</th>\n",
       "      <th>area_worst</th>\n",
       "      <th>smoothness_worst</th>\n",
       "      <th>compactness_worst</th>\n",
       "      <th>concavity_worst</th>\n",
       "      <th>concave points_worst</th>\n",
       "      <th>symmetry_worst</th>\n",
       "      <th>fractal_dimension_worst</th>\n",
       "    </tr>\n",
       "  </thead>\n",
       "  <tbody>\n",
       "    <tr>\n",
       "      <th>0</th>\n",
       "      <td>M</td>\n",
       "      <td>17.99</td>\n",
       "      <td>10.38</td>\n",
       "      <td>122.8</td>\n",
       "      <td>1001.0</td>\n",
       "      <td>0.11840</td>\n",
       "      <td>0.27760</td>\n",
       "      <td>0.3001</td>\n",
       "      <td>0.14710</td>\n",
       "      <td>0.2419</td>\n",
       "      <td>...</td>\n",
       "      <td>25.38</td>\n",
       "      <td>17.33</td>\n",
       "      <td>184.6</td>\n",
       "      <td>2019.0</td>\n",
       "      <td>0.1622</td>\n",
       "      <td>0.6656</td>\n",
       "      <td>0.7119</td>\n",
       "      <td>0.2654</td>\n",
       "      <td>0.4601</td>\n",
       "      <td>0.11890</td>\n",
       "    </tr>\n",
       "    <tr>\n",
       "      <th>1</th>\n",
       "      <td>M</td>\n",
       "      <td>20.57</td>\n",
       "      <td>17.77</td>\n",
       "      <td>132.9</td>\n",
       "      <td>1326.0</td>\n",
       "      <td>0.08474</td>\n",
       "      <td>0.07864</td>\n",
       "      <td>0.0869</td>\n",
       "      <td>0.07017</td>\n",
       "      <td>0.1812</td>\n",
       "      <td>...</td>\n",
       "      <td>24.99</td>\n",
       "      <td>23.41</td>\n",
       "      <td>158.8</td>\n",
       "      <td>1956.0</td>\n",
       "      <td>0.1238</td>\n",
       "      <td>0.1866</td>\n",
       "      <td>0.2416</td>\n",
       "      <td>0.1860</td>\n",
       "      <td>0.2750</td>\n",
       "      <td>0.08902</td>\n",
       "    </tr>\n",
       "    <tr>\n",
       "      <th>2</th>\n",
       "      <td>M</td>\n",
       "      <td>19.69</td>\n",
       "      <td>21.25</td>\n",
       "      <td>130.0</td>\n",
       "      <td>1203.0</td>\n",
       "      <td>0.10960</td>\n",
       "      <td>0.15990</td>\n",
       "      <td>0.1974</td>\n",
       "      <td>0.12790</td>\n",
       "      <td>0.2069</td>\n",
       "      <td>...</td>\n",
       "      <td>23.57</td>\n",
       "      <td>25.53</td>\n",
       "      <td>152.5</td>\n",
       "      <td>1709.0</td>\n",
       "      <td>0.1444</td>\n",
       "      <td>0.4245</td>\n",
       "      <td>0.4504</td>\n",
       "      <td>0.2430</td>\n",
       "      <td>0.3613</td>\n",
       "      <td>0.08758</td>\n",
       "    </tr>\n",
       "  </tbody>\n",
       "</table>\n",
       "<p>3 rows × 31 columns</p>\n",
       "</div>"
      ],
      "text/plain": [
       "  diagnosis  radius_mean  texture_mean  perimeter_mean  area_mean  \\\n",
       "0         M        17.99         10.38           122.8     1001.0   \n",
       "1         M        20.57         17.77           132.9     1326.0   \n",
       "2         M        19.69         21.25           130.0     1203.0   \n",
       "\n",
       "   smoothness_mean  compactness_mean  concavity_mean  concave points_mean  \\\n",
       "0          0.11840           0.27760          0.3001              0.14710   \n",
       "1          0.08474           0.07864          0.0869              0.07017   \n",
       "2          0.10960           0.15990          0.1974              0.12790   \n",
       "\n",
       "   symmetry_mean           ...             radius_worst  texture_worst  \\\n",
       "0         0.2419           ...                    25.38          17.33   \n",
       "1         0.1812           ...                    24.99          23.41   \n",
       "2         0.2069           ...                    23.57          25.53   \n",
       "\n",
       "   perimeter_worst  area_worst  smoothness_worst  compactness_worst  \\\n",
       "0            184.6      2019.0            0.1622             0.6656   \n",
       "1            158.8      1956.0            0.1238             0.1866   \n",
       "2            152.5      1709.0            0.1444             0.4245   \n",
       "\n",
       "   concavity_worst  concave points_worst  symmetry_worst  \\\n",
       "0           0.7119                0.2654          0.4601   \n",
       "1           0.2416                0.1860          0.2750   \n",
       "2           0.4504                0.2430          0.3613   \n",
       "\n",
       "   fractal_dimension_worst  \n",
       "0                  0.11890  \n",
       "1                  0.08902  \n",
       "2                  0.08758  \n",
       "\n",
       "[3 rows x 31 columns]"
      ]
     },
     "execution_count": 239,
     "metadata": {},
     "output_type": "execute_result"
    }
   ],
   "source": [
    "# visualizando os dados das três primeiras amostras\n",
    "cancer.iloc[0:3]"
   ]
  },
  {
   "cell_type": "code",
   "execution_count": 240,
   "metadata": {},
   "outputs": [
    {
     "data": {
      "text/plain": [
       "0      M\n",
       "1      M\n",
       "2      M\n",
       "3      M\n",
       "4      M\n",
       "5      M\n",
       "6      M\n",
       "7      M\n",
       "8      M\n",
       "9      M\n",
       "10     M\n",
       "11     M\n",
       "12     M\n",
       "13     M\n",
       "14     M\n",
       "15     M\n",
       "16     M\n",
       "17     M\n",
       "18     M\n",
       "19     B\n",
       "20     B\n",
       "21     B\n",
       "22     M\n",
       "23     M\n",
       "24     M\n",
       "25     M\n",
       "26     M\n",
       "27     M\n",
       "28     M\n",
       "29     M\n",
       "      ..\n",
       "539    B\n",
       "540    B\n",
       "541    B\n",
       "542    B\n",
       "543    B\n",
       "544    B\n",
       "545    B\n",
       "546    B\n",
       "547    B\n",
       "548    B\n",
       "549    B\n",
       "550    B\n",
       "551    B\n",
       "552    B\n",
       "553    B\n",
       "554    B\n",
       "555    B\n",
       "556    B\n",
       "557    B\n",
       "558    B\n",
       "559    B\n",
       "560    B\n",
       "561    B\n",
       "562    M\n",
       "563    M\n",
       "564    M\n",
       "565    M\n",
       "566    M\n",
       "567    M\n",
       "568    B\n",
       "Name: diagnosis, Length: 569, dtype: object"
      ]
     },
     "execution_count": 240,
     "metadata": {},
     "output_type": "execute_result"
    }
   ],
   "source": [
    "# visualizando os dados da coluna 'diagnosis'.\n",
    "cancer['diagnosis']"
   ]
  },
  {
   "cell_type": "code",
   "execution_count": 241,
   "metadata": {},
   "outputs": [
    {
     "data": {
      "text/plain": [
       "B    357\n",
       "M    212\n",
       "Name: diagnosis, dtype: int64"
      ]
     },
     "execution_count": 241,
     "metadata": {},
     "output_type": "execute_result"
    }
   ],
   "source": [
    "# visualizando a contagem da coluna 'diagnosis'.\n",
    "cancer['diagnosis'].value_counts()"
   ]
  },
  {
   "cell_type": "markdown",
   "metadata": {},
   "source": [
    "Vamos separar o dataset em dois (descartando 'id'):\n",
    "    X são os dados dos features usados para o treinamento;\n",
    "    y é o dado que queremos prever, o target."
   ]
  },
  {
   "cell_type": "code",
   "execution_count": 242,
   "metadata": {},
   "outputs": [],
   "source": [
    "y = cancer.diagnosis.copy()\n",
    "X = cancer.drop(['diagnosis'], axis=1)"
   ]
  },
  {
   "cell_type": "code",
   "execution_count": 243,
   "metadata": {},
   "outputs": [
    {
     "data": {
      "text/plain": [
       "0    M\n",
       "1    M\n",
       "2    M\n",
       "3    M\n",
       "4    M\n",
       "Name: diagnosis, dtype: object"
      ]
     },
     "execution_count": 243,
     "metadata": {},
     "output_type": "execute_result"
    }
   ],
   "source": [
    "y.head()"
   ]
  },
  {
   "cell_type": "code",
   "execution_count": 244,
   "metadata": {},
   "outputs": [
    {
     "data": {
      "text/html": [
       "<div>\n",
       "<style scoped>\n",
       "    .dataframe tbody tr th:only-of-type {\n",
       "        vertical-align: middle;\n",
       "    }\n",
       "\n",
       "    .dataframe tbody tr th {\n",
       "        vertical-align: top;\n",
       "    }\n",
       "\n",
       "    .dataframe thead th {\n",
       "        text-align: right;\n",
       "    }\n",
       "</style>\n",
       "<table border=\"1\" class=\"dataframe\">\n",
       "  <thead>\n",
       "    <tr style=\"text-align: right;\">\n",
       "      <th></th>\n",
       "      <th>radius_mean</th>\n",
       "      <th>texture_mean</th>\n",
       "      <th>perimeter_mean</th>\n",
       "      <th>area_mean</th>\n",
       "      <th>smoothness_mean</th>\n",
       "      <th>compactness_mean</th>\n",
       "      <th>concavity_mean</th>\n",
       "      <th>concave points_mean</th>\n",
       "      <th>symmetry_mean</th>\n",
       "      <th>fractal_dimension_mean</th>\n",
       "      <th>...</th>\n",
       "      <th>radius_worst</th>\n",
       "      <th>texture_worst</th>\n",
       "      <th>perimeter_worst</th>\n",
       "      <th>area_worst</th>\n",
       "      <th>smoothness_worst</th>\n",
       "      <th>compactness_worst</th>\n",
       "      <th>concavity_worst</th>\n",
       "      <th>concave points_worst</th>\n",
       "      <th>symmetry_worst</th>\n",
       "      <th>fractal_dimension_worst</th>\n",
       "    </tr>\n",
       "  </thead>\n",
       "  <tbody>\n",
       "    <tr>\n",
       "      <th>0</th>\n",
       "      <td>17.99</td>\n",
       "      <td>10.38</td>\n",
       "      <td>122.80</td>\n",
       "      <td>1001.0</td>\n",
       "      <td>0.11840</td>\n",
       "      <td>0.27760</td>\n",
       "      <td>0.3001</td>\n",
       "      <td>0.14710</td>\n",
       "      <td>0.2419</td>\n",
       "      <td>0.07871</td>\n",
       "      <td>...</td>\n",
       "      <td>25.38</td>\n",
       "      <td>17.33</td>\n",
       "      <td>184.60</td>\n",
       "      <td>2019.0</td>\n",
       "      <td>0.1622</td>\n",
       "      <td>0.6656</td>\n",
       "      <td>0.7119</td>\n",
       "      <td>0.2654</td>\n",
       "      <td>0.4601</td>\n",
       "      <td>0.11890</td>\n",
       "    </tr>\n",
       "    <tr>\n",
       "      <th>1</th>\n",
       "      <td>20.57</td>\n",
       "      <td>17.77</td>\n",
       "      <td>132.90</td>\n",
       "      <td>1326.0</td>\n",
       "      <td>0.08474</td>\n",
       "      <td>0.07864</td>\n",
       "      <td>0.0869</td>\n",
       "      <td>0.07017</td>\n",
       "      <td>0.1812</td>\n",
       "      <td>0.05667</td>\n",
       "      <td>...</td>\n",
       "      <td>24.99</td>\n",
       "      <td>23.41</td>\n",
       "      <td>158.80</td>\n",
       "      <td>1956.0</td>\n",
       "      <td>0.1238</td>\n",
       "      <td>0.1866</td>\n",
       "      <td>0.2416</td>\n",
       "      <td>0.1860</td>\n",
       "      <td>0.2750</td>\n",
       "      <td>0.08902</td>\n",
       "    </tr>\n",
       "    <tr>\n",
       "      <th>2</th>\n",
       "      <td>19.69</td>\n",
       "      <td>21.25</td>\n",
       "      <td>130.00</td>\n",
       "      <td>1203.0</td>\n",
       "      <td>0.10960</td>\n",
       "      <td>0.15990</td>\n",
       "      <td>0.1974</td>\n",
       "      <td>0.12790</td>\n",
       "      <td>0.2069</td>\n",
       "      <td>0.05999</td>\n",
       "      <td>...</td>\n",
       "      <td>23.57</td>\n",
       "      <td>25.53</td>\n",
       "      <td>152.50</td>\n",
       "      <td>1709.0</td>\n",
       "      <td>0.1444</td>\n",
       "      <td>0.4245</td>\n",
       "      <td>0.4504</td>\n",
       "      <td>0.2430</td>\n",
       "      <td>0.3613</td>\n",
       "      <td>0.08758</td>\n",
       "    </tr>\n",
       "    <tr>\n",
       "      <th>3</th>\n",
       "      <td>11.42</td>\n",
       "      <td>20.38</td>\n",
       "      <td>77.58</td>\n",
       "      <td>386.1</td>\n",
       "      <td>0.14250</td>\n",
       "      <td>0.28390</td>\n",
       "      <td>0.2414</td>\n",
       "      <td>0.10520</td>\n",
       "      <td>0.2597</td>\n",
       "      <td>0.09744</td>\n",
       "      <td>...</td>\n",
       "      <td>14.91</td>\n",
       "      <td>26.50</td>\n",
       "      <td>98.87</td>\n",
       "      <td>567.7</td>\n",
       "      <td>0.2098</td>\n",
       "      <td>0.8663</td>\n",
       "      <td>0.6869</td>\n",
       "      <td>0.2575</td>\n",
       "      <td>0.6638</td>\n",
       "      <td>0.17300</td>\n",
       "    </tr>\n",
       "    <tr>\n",
       "      <th>4</th>\n",
       "      <td>20.29</td>\n",
       "      <td>14.34</td>\n",
       "      <td>135.10</td>\n",
       "      <td>1297.0</td>\n",
       "      <td>0.10030</td>\n",
       "      <td>0.13280</td>\n",
       "      <td>0.1980</td>\n",
       "      <td>0.10430</td>\n",
       "      <td>0.1809</td>\n",
       "      <td>0.05883</td>\n",
       "      <td>...</td>\n",
       "      <td>22.54</td>\n",
       "      <td>16.67</td>\n",
       "      <td>152.20</td>\n",
       "      <td>1575.0</td>\n",
       "      <td>0.1374</td>\n",
       "      <td>0.2050</td>\n",
       "      <td>0.4000</td>\n",
       "      <td>0.1625</td>\n",
       "      <td>0.2364</td>\n",
       "      <td>0.07678</td>\n",
       "    </tr>\n",
       "  </tbody>\n",
       "</table>\n",
       "<p>5 rows × 30 columns</p>\n",
       "</div>"
      ],
      "text/plain": [
       "   radius_mean  texture_mean  perimeter_mean  area_mean  smoothness_mean  \\\n",
       "0        17.99         10.38          122.80     1001.0          0.11840   \n",
       "1        20.57         17.77          132.90     1326.0          0.08474   \n",
       "2        19.69         21.25          130.00     1203.0          0.10960   \n",
       "3        11.42         20.38           77.58      386.1          0.14250   \n",
       "4        20.29         14.34          135.10     1297.0          0.10030   \n",
       "\n",
       "   compactness_mean  concavity_mean  concave points_mean  symmetry_mean  \\\n",
       "0           0.27760          0.3001              0.14710         0.2419   \n",
       "1           0.07864          0.0869              0.07017         0.1812   \n",
       "2           0.15990          0.1974              0.12790         0.2069   \n",
       "3           0.28390          0.2414              0.10520         0.2597   \n",
       "4           0.13280          0.1980              0.10430         0.1809   \n",
       "\n",
       "   fractal_dimension_mean           ...             radius_worst  \\\n",
       "0                 0.07871           ...                    25.38   \n",
       "1                 0.05667           ...                    24.99   \n",
       "2                 0.05999           ...                    23.57   \n",
       "3                 0.09744           ...                    14.91   \n",
       "4                 0.05883           ...                    22.54   \n",
       "\n",
       "   texture_worst  perimeter_worst  area_worst  smoothness_worst  \\\n",
       "0          17.33           184.60      2019.0            0.1622   \n",
       "1          23.41           158.80      1956.0            0.1238   \n",
       "2          25.53           152.50      1709.0            0.1444   \n",
       "3          26.50            98.87       567.7            0.2098   \n",
       "4          16.67           152.20      1575.0            0.1374   \n",
       "\n",
       "   compactness_worst  concavity_worst  concave points_worst  symmetry_worst  \\\n",
       "0             0.6656           0.7119                0.2654          0.4601   \n",
       "1             0.1866           0.2416                0.1860          0.2750   \n",
       "2             0.4245           0.4504                0.2430          0.3613   \n",
       "3             0.8663           0.6869                0.2575          0.6638   \n",
       "4             0.2050           0.4000                0.1625          0.2364   \n",
       "\n",
       "   fractal_dimension_worst  \n",
       "0                  0.11890  \n",
       "1                  0.08902  \n",
       "2                  0.08758  \n",
       "3                  0.17300  \n",
       "4                  0.07678  \n",
       "\n",
       "[5 rows x 30 columns]"
      ]
     },
     "execution_count": 244,
     "metadata": {},
     "output_type": "execute_result"
    }
   ],
   "source": [
    "X.head()"
   ]
  },
  {
   "cell_type": "markdown",
   "metadata": {},
   "source": [
    "## Visualizando os dados"
   ]
  },
  {
   "cell_type": "code",
   "execution_count": 245,
   "metadata": {},
   "outputs": [],
   "source": [
    "# bibliotecas para gráficos\n",
    "import seaborn as sns\n",
    "import matplotlib.pyplot as plt\n",
    "%matplotlib inline"
   ]
  },
  {
   "cell_type": "code",
   "execution_count": 246,
   "metadata": {},
   "outputs": [
    {
     "name": "stdout",
     "output_type": "stream",
     "text": [
      "Number of Benign:  357\n",
      "Number of Malignant :  212\n"
     ]
    },
    {
     "data": {
      "image/png": "[encoded data removed]",
      "text/plain": [
       "<Figure size 432x288 with 1 Axes>"
      ]
     },
     "metadata": {
      "needs_background": "light"
     },
     "output_type": "display_data"
    }
   ],
   "source": [
    "# histograma de 'diagnosis'\n",
    "ax = sns.countplot(y,label=\"Count\")\n",
    "B, M = cancer['diagnosis'].value_counts()\n",
    "print('Number of Benign: ',B)\n",
    "print('Number of Malignant : ',M)"
   ]
  },
  {
   "cell_type": "code",
   "execution_count": 247,
   "metadata": {},
   "outputs": [
    {
     "data": {
      "image/png": "[encoded data removed]",
      "text/plain": [
       "<Figure size 1440x1080 with 30 Axes>"
      ]
     },
     "metadata": {
      "needs_background": "light"
     },
     "output_type": "display_data"
    }
   ],
   "source": [
    "# histograma dos features\n",
    "cancer.hist(bins=50, figsize=(20,15));"
   ]
  },
  {
   "cell_type": "markdown",
   "metadata": {},
   "source": [
    "## Antes do treino\n",
    "Supondo que estamos contentes com os dados do jeito que estão, vamos finalmente para machine learning propriamente dito.\n",
    "\n",
    "Agora que temos alguma familiaridade com os dados vamos separar o dataset em dois, 'train set' e 'test set'. O dataset 'train' é aquele que vamos utilizar para treinar o algoritmo de machine learning, após isso precisamos de alguma medida da qualidade de nossas previsões fazendo o algoritmo prever o resultado de dados desconhecidos por ele, ou seja, o dataset 'test'. É comum que cerca de 20% dos dados seja aleatoriamente definido como o 'test set'. Um jeito simples de fazer isso é utilizar a função 'train_test_split' da bibliotec de machine learning 'scikit-learn'."
   ]
  },
  {
   "cell_type": "code",
   "execution_count": 248,
   "metadata": {},
   "outputs": [],
   "source": [
    "from sklearn.model_selection import train_test_split\n",
    "train, test = train_test_split(cancer, test_size=0.2, random_state=42)"
   ]
  },
  {
   "cell_type": "code",
   "execution_count": 249,
   "metadata": {},
   "outputs": [
    {
     "name": "stdout",
     "output_type": "stream",
     "text": [
      "(455, 31)\n",
      "(114, 31)\n"
     ]
    }
   ],
   "source": [
    "print(train.shape)\n",
    "print(test.shape)"
   ]
  },
  {
   "cell_type": "code",
   "execution_count": 250,
   "metadata": {},
   "outputs": [
    {
     "data": {
      "text/html": [
       "<div>\n",
       "<style scoped>\n",
       "    .dataframe tbody tr th:only-of-type {\n",
       "        vertical-align: middle;\n",
       "    }\n",
       "\n",
       "    .dataframe tbody tr th {\n",
       "        vertical-align: top;\n",
       "    }\n",
       "\n",
       "    .dataframe thead th {\n",
       "        text-align: right;\n",
       "    }\n",
       "</style>\n",
       "<table border=\"1\" class=\"dataframe\">\n",
       "  <thead>\n",
       "    <tr style=\"text-align: right;\">\n",
       "      <th></th>\n",
       "      <th>diagnosis</th>\n",
       "      <th>radius_mean</th>\n",
       "      <th>texture_mean</th>\n",
       "      <th>perimeter_mean</th>\n",
       "      <th>area_mean</th>\n",
       "      <th>smoothness_mean</th>\n",
       "      <th>compactness_mean</th>\n",
       "      <th>concavity_mean</th>\n",
       "      <th>concave points_mean</th>\n",
       "      <th>symmetry_mean</th>\n",
       "      <th>...</th>\n",
       "      <th>radius_worst</th>\n",
       "      <th>texture_worst</th>\n",
       "      <th>perimeter_worst</th>\n",
       "      <th>area_worst</th>\n",
       "      <th>smoothness_worst</th>\n",
       "      <th>compactness_worst</th>\n",
       "      <th>concavity_worst</th>\n",
       "      <th>concave points_worst</th>\n",
       "      <th>symmetry_worst</th>\n",
       "      <th>fractal_dimension_worst</th>\n",
       "    </tr>\n",
       "  </thead>\n",
       "  <tbody>\n",
       "    <tr>\n",
       "      <th>68</th>\n",
       "      <td>B</td>\n",
       "      <td>9.029</td>\n",
       "      <td>17.33</td>\n",
       "      <td>58.79</td>\n",
       "      <td>250.5</td>\n",
       "      <td>0.10660</td>\n",
       "      <td>0.14130</td>\n",
       "      <td>0.31300</td>\n",
       "      <td>0.04375</td>\n",
       "      <td>0.2111</td>\n",
       "      <td>...</td>\n",
       "      <td>10.31</td>\n",
       "      <td>22.65</td>\n",
       "      <td>65.50</td>\n",
       "      <td>324.7</td>\n",
       "      <td>0.14820</td>\n",
       "      <td>0.43650</td>\n",
       "      <td>1.25200</td>\n",
       "      <td>0.17500</td>\n",
       "      <td>0.4228</td>\n",
       "      <td>0.11750</td>\n",
       "    </tr>\n",
       "    <tr>\n",
       "      <th>181</th>\n",
       "      <td>M</td>\n",
       "      <td>21.090</td>\n",
       "      <td>26.57</td>\n",
       "      <td>142.70</td>\n",
       "      <td>1311.0</td>\n",
       "      <td>0.11410</td>\n",
       "      <td>0.28320</td>\n",
       "      <td>0.24870</td>\n",
       "      <td>0.14960</td>\n",
       "      <td>0.2395</td>\n",
       "      <td>...</td>\n",
       "      <td>26.68</td>\n",
       "      <td>33.48</td>\n",
       "      <td>176.50</td>\n",
       "      <td>2089.0</td>\n",
       "      <td>0.14910</td>\n",
       "      <td>0.75840</td>\n",
       "      <td>0.67800</td>\n",
       "      <td>0.29030</td>\n",
       "      <td>0.4098</td>\n",
       "      <td>0.12840</td>\n",
       "    </tr>\n",
       "    <tr>\n",
       "      <th>63</th>\n",
       "      <td>B</td>\n",
       "      <td>9.173</td>\n",
       "      <td>13.86</td>\n",
       "      <td>59.20</td>\n",
       "      <td>260.9</td>\n",
       "      <td>0.07721</td>\n",
       "      <td>0.08751</td>\n",
       "      <td>0.05988</td>\n",
       "      <td>0.02180</td>\n",
       "      <td>0.2341</td>\n",
       "      <td>...</td>\n",
       "      <td>10.01</td>\n",
       "      <td>19.23</td>\n",
       "      <td>65.59</td>\n",
       "      <td>310.1</td>\n",
       "      <td>0.09836</td>\n",
       "      <td>0.16780</td>\n",
       "      <td>0.13970</td>\n",
       "      <td>0.05087</td>\n",
       "      <td>0.3282</td>\n",
       "      <td>0.08490</td>\n",
       "    </tr>\n",
       "    <tr>\n",
       "      <th>248</th>\n",
       "      <td>B</td>\n",
       "      <td>10.650</td>\n",
       "      <td>25.22</td>\n",
       "      <td>68.01</td>\n",
       "      <td>347.0</td>\n",
       "      <td>0.09657</td>\n",
       "      <td>0.07234</td>\n",
       "      <td>0.02379</td>\n",
       "      <td>0.01615</td>\n",
       "      <td>0.1897</td>\n",
       "      <td>...</td>\n",
       "      <td>12.25</td>\n",
       "      <td>35.19</td>\n",
       "      <td>77.98</td>\n",
       "      <td>455.7</td>\n",
       "      <td>0.14990</td>\n",
       "      <td>0.13980</td>\n",
       "      <td>0.11250</td>\n",
       "      <td>0.06136</td>\n",
       "      <td>0.3409</td>\n",
       "      <td>0.08147</td>\n",
       "    </tr>\n",
       "    <tr>\n",
       "      <th>60</th>\n",
       "      <td>B</td>\n",
       "      <td>10.170</td>\n",
       "      <td>14.88</td>\n",
       "      <td>64.55</td>\n",
       "      <td>311.9</td>\n",
       "      <td>0.11340</td>\n",
       "      <td>0.08061</td>\n",
       "      <td>0.01084</td>\n",
       "      <td>0.01290</td>\n",
       "      <td>0.2743</td>\n",
       "      <td>...</td>\n",
       "      <td>11.02</td>\n",
       "      <td>17.45</td>\n",
       "      <td>69.86</td>\n",
       "      <td>368.6</td>\n",
       "      <td>0.12750</td>\n",
       "      <td>0.09866</td>\n",
       "      <td>0.02168</td>\n",
       "      <td>0.02579</td>\n",
       "      <td>0.3557</td>\n",
       "      <td>0.08020</td>\n",
       "    </tr>\n",
       "  </tbody>\n",
       "</table>\n",
       "<p>5 rows × 31 columns</p>\n",
       "</div>"
      ],
      "text/plain": [
       "    diagnosis  radius_mean  texture_mean  perimeter_mean  area_mean  \\\n",
       "68          B        9.029         17.33           58.79      250.5   \n",
       "181         M       21.090         26.57          142.70     1311.0   \n",
       "63          B        9.173         13.86           59.20      260.9   \n",
       "248         B       10.650         25.22           68.01      347.0   \n",
       "60          B       10.170         14.88           64.55      311.9   \n",
       "\n",
       "     smoothness_mean  compactness_mean  concavity_mean  concave points_mean  \\\n",
       "68           0.10660           0.14130         0.31300              0.04375   \n",
       "181          0.11410           0.28320         0.24870              0.14960   \n",
       "63           0.07721           0.08751         0.05988              0.02180   \n",
       "248          0.09657           0.07234         0.02379              0.01615   \n",
       "60           0.11340           0.08061         0.01084              0.01290   \n",
       "\n",
       "     symmetry_mean           ...             radius_worst  texture_worst  \\\n",
       "68          0.2111           ...                    10.31          22.65   \n",
       "181         0.2395           ...                    26.68          33.48   \n",
       "63          0.2341           ...                    10.01          19.23   \n",
       "248         0.1897           ...                    12.25          35.19   \n",
       "60          0.2743           ...                    11.02          17.45   \n",
       "\n",
       "     perimeter_worst  area_worst  smoothness_worst  compactness_worst  \\\n",
       "68             65.50       324.7           0.14820            0.43650   \n",
       "181           176.50      2089.0           0.14910            0.75840   \n",
       "63             65.59       310.1           0.09836            0.16780   \n",
       "248            77.98       455.7           0.14990            0.13980   \n",
       "60             69.86       368.6           0.12750            0.09866   \n",
       "\n",
       "     concavity_worst  concave points_worst  symmetry_worst  \\\n",
       "68           1.25200               0.17500          0.4228   \n",
       "181          0.67800               0.29030          0.4098   \n",
       "63           0.13970               0.05087          0.3282   \n",
       "248          0.11250               0.06136          0.3409   \n",
       "60           0.02168               0.02579          0.3557   \n",
       "\n",
       "     fractal_dimension_worst  \n",
       "68                   0.11750  \n",
       "181                  0.12840  \n",
       "63                   0.08490  \n",
       "248                  0.08147  \n",
       "60                   0.08020  \n",
       "\n",
       "[5 rows x 31 columns]"
      ]
     },
     "execution_count": 250,
     "metadata": {},
     "output_type": "execute_result"
    }
   ],
   "source": [
    "train.head()"
   ]
  },
  {
   "cell_type": "code",
   "execution_count": 287,
   "metadata": {},
   "outputs": [],
   "source": [
    "X_train = train.drop('diagnosis',axis=1)\n",
    "X_test = test.drop('diagnosis',axis=1)\n",
    "y_train = train['diagnosis'].copy().reset_index(drop = True)\n",
    "y_test = test['diagnosis'].copy().reset_index(drop = True)"
   ]
  },
  {
   "cell_type": "markdown",
   "metadata": {},
   "source": [
    "## Pré-processamento\n",
    "\n",
    "É importante analisar a distribuição dos dados para verificar se estão 'normalmente' distribuídos e se há dados ruins 'outliers'. Para que o modelo que vamos criar seja estatisticamente acurado devemos aplicar algumas transformações a estes dados:\n",
    "-  normalization - faz com que todos os features possuam valores entre 0 e 1, ou seja, a faixa variação dos valores de cada feature deve ser a mesma. Por exemplo, 'area_mean' varia aproximadamente entre 0 e 2500, enquanto 'fractal_dimension_mean' vai de 0 até 0.2;\n",
    "-  standardization - faz com que todos os features tenham média zero e desvio padrão igual a 1.\n",
    "\n",
    "Muitos algoritmos acabam enviesando o treinamento se os dados não passarem por estes processos. Para contornar isso vamos apenas utilizar a função 'StandardScaler' do scikit-learn."
   ]
  },
  {
   "cell_type": "code",
   "execution_count": 252,
   "metadata": {},
   "outputs": [],
   "source": [
    "from sklearn.preprocessing import StandardScaler\n",
    "scaler = StandardScaler()\n",
    "X_train = scaler.fit_transform(X_train)\n",
    "X_test = scaler.fit_transform(X_test)"
   ]
  },
  {
   "cell_type": "code",
   "execution_count": 253,
   "metadata": {},
   "outputs": [],
   "source": [
    "feature_columns = cancer.columns[1:]\n",
    "X_train = pd.DataFrame(X_train,columns=feature_columns)\n",
    "X_test = pd.DataFrame(X_test,columns=feature_columns)"
   ]
  },
  {
   "cell_type": "code",
   "execution_count": 254,
   "metadata": {},
   "outputs": [
    {
     "data": {
      "text/html": [
       "<div>\n",
       "<style scoped>\n",
       "    .dataframe tbody tr th:only-of-type {\n",
       "        vertical-align: middle;\n",
       "    }\n",
       "\n",
       "    .dataframe tbody tr th {\n",
       "        vertical-align: top;\n",
       "    }\n",
       "\n",
       "    .dataframe thead th {\n",
       "        text-align: right;\n",
       "    }\n",
       "</style>\n",
       "<table border=\"1\" class=\"dataframe\">\n",
       "  <thead>\n",
       "    <tr style=\"text-align: right;\">\n",
       "      <th></th>\n",
       "      <th>radius_mean</th>\n",
       "      <th>texture_mean</th>\n",
       "      <th>perimeter_mean</th>\n",
       "      <th>area_mean</th>\n",
       "      <th>smoothness_mean</th>\n",
       "      <th>compactness_mean</th>\n",
       "      <th>concavity_mean</th>\n",
       "      <th>concave points_mean</th>\n",
       "      <th>symmetry_mean</th>\n",
       "      <th>fractal_dimension_mean</th>\n",
       "      <th>...</th>\n",
       "      <th>radius_worst</th>\n",
       "      <th>texture_worst</th>\n",
       "      <th>perimeter_worst</th>\n",
       "      <th>area_worst</th>\n",
       "      <th>smoothness_worst</th>\n",
       "      <th>compactness_worst</th>\n",
       "      <th>concavity_worst</th>\n",
       "      <th>concave points_worst</th>\n",
       "      <th>symmetry_worst</th>\n",
       "      <th>fractal_dimension_worst</th>\n",
       "    </tr>\n",
       "  </thead>\n",
       "  <tbody>\n",
       "    <tr>\n",
       "      <th>0</th>\n",
       "      <td>-1.440753</td>\n",
       "      <td>-0.435319</td>\n",
       "      <td>-1.362085</td>\n",
       "      <td>-1.139118</td>\n",
       "      <td>0.780573</td>\n",
       "      <td>0.718921</td>\n",
       "      <td>2.823135</td>\n",
       "      <td>-0.119150</td>\n",
       "      <td>1.092662</td>\n",
       "      <td>2.458173</td>\n",
       "      <td>...</td>\n",
       "      <td>-1.232861</td>\n",
       "      <td>-0.476309</td>\n",
       "      <td>-1.247920</td>\n",
       "      <td>-0.973968</td>\n",
       "      <td>0.722894</td>\n",
       "      <td>1.186732</td>\n",
       "      <td>4.672828</td>\n",
       "      <td>0.932012</td>\n",
       "      <td>2.097242</td>\n",
       "      <td>1.886450</td>\n",
       "    </tr>\n",
       "    <tr>\n",
       "      <th>1</th>\n",
       "      <td>1.974096</td>\n",
       "      <td>1.733026</td>\n",
       "      <td>2.091672</td>\n",
       "      <td>1.851973</td>\n",
       "      <td>1.319843</td>\n",
       "      <td>3.426275</td>\n",
       "      <td>2.013112</td>\n",
       "      <td>2.665032</td>\n",
       "      <td>2.127004</td>\n",
       "      <td>1.558396</td>\n",
       "      <td>...</td>\n",
       "      <td>2.173314</td>\n",
       "      <td>1.311279</td>\n",
       "      <td>2.081617</td>\n",
       "      <td>2.137405</td>\n",
       "      <td>0.761928</td>\n",
       "      <td>3.265601</td>\n",
       "      <td>1.928621</td>\n",
       "      <td>2.698947</td>\n",
       "      <td>1.891161</td>\n",
       "      <td>2.497838</td>\n",
       "    </tr>\n",
       "    <tr>\n",
       "      <th>2</th>\n",
       "      <td>-1.399982</td>\n",
       "      <td>-1.249622</td>\n",
       "      <td>-1.345209</td>\n",
       "      <td>-1.109785</td>\n",
       "      <td>-1.332645</td>\n",
       "      <td>-0.307355</td>\n",
       "      <td>-0.365558</td>\n",
       "      <td>-0.696502</td>\n",
       "      <td>1.930333</td>\n",
       "      <td>0.954379</td>\n",
       "      <td>...</td>\n",
       "      <td>-1.295284</td>\n",
       "      <td>-1.040811</td>\n",
       "      <td>-1.245220</td>\n",
       "      <td>-0.999715</td>\n",
       "      <td>-1.438693</td>\n",
       "      <td>-0.548564</td>\n",
       "      <td>-0.644911</td>\n",
       "      <td>-0.970239</td>\n",
       "      <td>0.597602</td>\n",
       "      <td>0.057894</td>\n",
       "    </tr>\n",
       "    <tr>\n",
       "      <th>3</th>\n",
       "      <td>-0.981797</td>\n",
       "      <td>1.416222</td>\n",
       "      <td>-0.982587</td>\n",
       "      <td>-0.866944</td>\n",
       "      <td>0.059390</td>\n",
       "      <td>-0.596788</td>\n",
       "      <td>-0.820203</td>\n",
       "      <td>-0.845115</td>\n",
       "      <td>0.313264</td>\n",
       "      <td>0.074041</td>\n",
       "      <td>...</td>\n",
       "      <td>-0.829197</td>\n",
       "      <td>1.593530</td>\n",
       "      <td>-0.873572</td>\n",
       "      <td>-0.742947</td>\n",
       "      <td>0.796624</td>\n",
       "      <td>-0.729392</td>\n",
       "      <td>-0.774950</td>\n",
       "      <td>-0.809483</td>\n",
       "      <td>0.798928</td>\n",
       "      <td>-0.134497</td>\n",
       "    </tr>\n",
       "    <tr>\n",
       "      <th>4</th>\n",
       "      <td>-1.117700</td>\n",
       "      <td>-1.010259</td>\n",
       "      <td>-1.125002</td>\n",
       "      <td>-0.965942</td>\n",
       "      <td>1.269511</td>\n",
       "      <td>-0.439002</td>\n",
       "      <td>-0.983341</td>\n",
       "      <td>-0.930600</td>\n",
       "      <td>3.394436</td>\n",
       "      <td>0.950213</td>\n",
       "      <td>...</td>\n",
       "      <td>-1.085129</td>\n",
       "      <td>-1.334616</td>\n",
       "      <td>-1.117138</td>\n",
       "      <td>-0.896549</td>\n",
       "      <td>-0.174876</td>\n",
       "      <td>-0.995079</td>\n",
       "      <td>-1.209146</td>\n",
       "      <td>-1.354582</td>\n",
       "      <td>1.033544</td>\n",
       "      <td>-0.205732</td>\n",
       "    </tr>\n",
       "  </tbody>\n",
       "</table>\n",
       "<p>5 rows × 30 columns</p>\n",
       "</div>"
      ],
      "text/plain": [
       "   radius_mean  texture_mean  perimeter_mean  area_mean  smoothness_mean  \\\n",
       "0    -1.440753     -0.435319       -1.362085  -1.139118         0.780573   \n",
       "1     1.974096      1.733026        2.091672   1.851973         1.319843   \n",
       "2    -1.399982     -1.249622       -1.345209  -1.109785        -1.332645   \n",
       "3    -0.981797      1.416222       -0.982587  -0.866944         0.059390   \n",
       "4    -1.117700     -1.010259       -1.125002  -0.965942         1.269511   \n",
       "\n",
       "   compactness_mean  concavity_mean  concave points_mean  symmetry_mean  \\\n",
       "0          0.718921        2.823135            -0.119150       1.092662   \n",
       "1          3.426275        2.013112             2.665032       2.127004   \n",
       "2         -0.307355       -0.365558            -0.696502       1.930333   \n",
       "3         -0.596788       -0.820203            -0.845115       0.313264   \n",
       "4         -0.439002       -0.983341            -0.930600       3.394436   \n",
       "\n",
       "   fractal_dimension_mean           ...             radius_worst  \\\n",
       "0                2.458173           ...                -1.232861   \n",
       "1                1.558396           ...                 2.173314   \n",
       "2                0.954379           ...                -1.295284   \n",
       "3                0.074041           ...                -0.829197   \n",
       "4                0.950213           ...                -1.085129   \n",
       "\n",
       "   texture_worst  perimeter_worst  area_worst  smoothness_worst  \\\n",
       "0      -0.476309        -1.247920   -0.973968          0.722894   \n",
       "1       1.311279         2.081617    2.137405          0.761928   \n",
       "2      -1.040811        -1.245220   -0.999715         -1.438693   \n",
       "3       1.593530        -0.873572   -0.742947          0.796624   \n",
       "4      -1.334616        -1.117138   -0.896549         -0.174876   \n",
       "\n",
       "   compactness_worst  concavity_worst  concave points_worst  symmetry_worst  \\\n",
       "0           1.186732         4.672828              0.932012        2.097242   \n",
       "1           3.265601         1.928621              2.698947        1.891161   \n",
       "2          -0.548564        -0.644911             -0.970239        0.597602   \n",
       "3          -0.729392        -0.774950             -0.809483        0.798928   \n",
       "4          -0.995079        -1.209146             -1.354582        1.033544   \n",
       "\n",
       "   fractal_dimension_worst  \n",
       "0                 1.886450  \n",
       "1                 2.497838  \n",
       "2                 0.057894  \n",
       "3                -0.134497  \n",
       "4                -0.205732  \n",
       "\n",
       "[5 rows x 30 columns]"
      ]
     },
     "execution_count": 254,
     "metadata": {},
     "output_type": "execute_result"
    }
   ],
   "source": [
    "X_train.head()"
   ]
  },
  {
   "cell_type": "markdown",
   "metadata": {},
   "source": [
    "Devemos lembrar que os valores de \"y_train\" e \"y_test\" não são número, são as letras \"M\" e \"B\". Se deixarmos assim o algoritmo não saberá como lidar com estas letras. Resolvemos isso classificando cada letra com números, usaremos \"B\"=1 e \"M\"=0."
   ]
  },
  {
   "cell_type": "code",
   "execution_count": 286,
   "metadata": {},
   "outputs": [
    {
     "data": {
      "text/plain": [
       "0    B\n",
       "1    M\n",
       "2    B\n",
       "3    B\n",
       "4    B\n",
       "Name: diagnosis, dtype: object"
      ]
     },
     "execution_count": 286,
     "metadata": {},
     "output_type": "execute_result"
    }
   ],
   "source": [
    "y_train.head()"
   ]
  },
  {
   "cell_type": "code",
   "execution_count": 288,
   "metadata": {},
   "outputs": [
    {
     "data": {
      "text/plain": [
       "0    1\n",
       "1    0\n",
       "2    1\n",
       "3    1\n",
       "4    1\n",
       "Name: diagnosis, dtype: int64"
      ]
     },
     "execution_count": 288,
     "metadata": {},
     "output_type": "execute_result"
    }
   ],
   "source": [
    "y_train = y_train.replace(['B','M'],[1,0])\n",
    "y_test = y_test.replace(['B','M'],[1,0])\n",
    "y_train.head()"
   ]
  },
  {
   "cell_type": "code",
   "execution_count": 289,
   "metadata": {},
   "outputs": [],
   "source": [
    "# salvando o dataset pronto\n",
    "X_train.to_csv(r'.\\datasets\\Wisconsin\\X_train.csv')\n",
    "X_test.to_csv(r'.\\datasets\\Wisconsin\\X_test.csv')\n",
    "y_train.to_csv(r'.\\datasets\\Wisconsin\\y_train.csv')\n",
    "y_test.to_csv(r'.\\datasets\\Wisconsin\\y_test.csv')"
   ]
  },
  {
   "cell_type": "markdown",
   "metadata": {},
   "source": [
    "Os dados estão prontos para serem utilizados no treinamento. A partir de agora vamos nos aprofundar um pouco nos algoritmos de machine learning mais conhecidos."
   ]
  },
  {
   "cell_type": "markdown",
   "metadata": {},
   "source": [
    "## K-Nearest Neighbors\n",
    "\n",
    "<h1><center>Adicionar explicação!</center></h1>\n",
    "\n",
    "<img src=\"images/kneighbors_01.png\" alt=\"kneighbors\" style=\"width: 500px;\"/>\n",
    "<h1><center><font size=\"0.5\">Fonte: https://github.com/amueller/introduction_to_ml_with_python</font></center></h1>"
   ]
  },
  {
   "cell_type": "code",
   "execution_count": 301,
   "metadata": {},
   "outputs": [],
   "source": [
    "X_train = X_train.values\n",
    "X_test = X_test.values\n",
    "y_train = y_train.values\n",
    "y_test = y_test.values"
   ]
  },
  {
   "cell_type": "code",
   "execution_count": 297,
   "metadata": {
    "scrolled": true
   },
   "outputs": [],
   "source": [
    "from sklearn.neighbors import KNeighborsClassifier\n",
    "# verificar: http://scikit-learn.org/stable/modules/generated/sklearn.neighbors.KNeighborsClassifier.html"
   ]
  },
  {
   "cell_type": "code",
   "execution_count": 298,
   "metadata": {},
   "outputs": [
    {
     "data": {
      "text/plain": [
       "KNeighborsClassifier(algorithm='auto', leaf_size=30, metric='minkowski',\n",
       "           metric_params=None, n_jobs=1, n_neighbors=1, p=2,\n",
       "           weights='uniform')"
      ]
     },
     "execution_count": 298,
     "metadata": {},
     "output_type": "execute_result"
    }
   ],
   "source": [
    "knn = KNeighborsClassifier(n_neighbors=1)\n",
    "knn.fit(X_train, y_train)\n",
    "knn"
   ]
  },
  {
   "cell_type": "code",
   "execution_count": 309,
   "metadata": {},
   "outputs": [
    {
     "name": "stdout",
     "output_type": "stream",
     "text": [
      "[1 0 0 1 1 0 0 0 1 1 1 0 1 1 1 0 1 1 1 0 1 1 0 1 1 1 1 1 1 0 1 1 1 0 1 1 0\n",
      " 1 0 1 1 0 1 1 1 1 1 1 1 1 0 0 1 1 1 1 1 0 1 1 1 0 0 1 1 1 0 0 1 1 0 0 1 1\n",
      " 1 1 1 1 1 1 0 1 1 0 0 0 0 0 1 1 1 1 1 1 1 1 0 0 1 0 0 1 0 0 1 1 1 0 1 1 0\n",
      " 1 0 0]\n"
     ]
    }
   ],
   "source": [
    "y_pred = knn.predict(X_test)\n",
    "print(y_pred)"
   ]
  },
  {
   "cell_type": "markdown",
   "metadata": {},
   "source": [
    "## Métricas para avaliar modelos de classificação"
   ]
  },
  {
   "cell_type": "code",
   "execution_count": 331,
   "metadata": {},
   "outputs": [
    {
     "name": "stdout",
     "output_type": "stream",
     "text": [
      "0.9298245614035088\n"
     ]
    }
   ],
   "source": [
    "# accuracy\n",
    "print(knn.score(X_test,y_test))"
   ]
  },
  {
   "cell_type": "code",
   "execution_count": 332,
   "metadata": {},
   "outputs": [
    {
     "data": {
      "text/plain": [
       "<matplotlib.legend.Legend at 0x17872e81d0>"
      ]
     },
     "execution_count": 332,
     "metadata": {},
     "output_type": "execute_result"
    },
    {
     "data": {
      "image/png": "[encoded data removed]",
      "text/plain": [
       "<Figure size 432x288 with 1 Axes>"
      ]
     },
     "metadata": {
      "needs_background": "light"
     },
     "output_type": "display_data"
    }
   ],
   "source": [
    "clf = knn\n",
    "training_accuracy = []\n",
    "test_accuracy = []\n",
    "# try n_neighbors from 1 to 10\n",
    "neighbors_settings = range(1, 11)\n",
    "for n_neighbors in neighbors_settings:\n",
    "    # build the model\n",
    "    clf = KNeighborsClassifier(n_neighbors=n_neighbors)\n",
    "    clf.fit(X_train, y_train)\n",
    "    # record training set accuracy\n",
    "    training_accuracy.append(clf.score(X_train, y_train))\n",
    "    # record generalization accuracy\n",
    "    test_accuracy.append(clf.score(X_test, y_test))\n",
    "plt.plot(neighbors_settings, training_accuracy, label=\"training accuracy\")\n",
    "plt.plot(neighbors_settings, test_accuracy, label=\"test accuracy\")\n",
    "plt.ylabel(\"Accuracy\")\n",
    "plt.xlabel(\"n_neighbors\")\n",
    "plt.legend()"
   ]
  },
  {
   "cell_type": "markdown",
   "metadata": {},
   "source": [
    "### Confusion matrix\n",
    "\n",
    "http://scikit-learn.org/stable/modules/generated/sklearn.metrics.confusion_matrix.html\n",
    "\"Thus in binary classification, the count of true negatives is $C_{0,0}$, false negatives is $C_{1,0}$, true positives is $C_{1,1}$ and false positives is $C_{0,1}$.\"\n",
    "\n"
   ]
  },
  {
   "cell_type": "code",
   "execution_count": 333,
   "metadata": {},
   "outputs": [
    {
     "name": "stdout",
     "output_type": "stream",
     "text": [
      "Confusion matrix, without normalization\n"
     ]
    },
    {
     "data": {
      "image/png": "[encoded data removed]",
      "text/plain": [
       "<Figure size 432x288 with 2 Axes>"
      ]
     },
     "metadata": {
      "needs_background": "light"
     },
     "output_type": "display_data"
    }
   ],
   "source": [
    "cm_knn = confusion_matrix(y_pred,y_test)\n",
    "plot_confusion_matrix(cm_knn, ['0','1'],\n",
    "                          normalize=False,\n",
    "                          title='Confusion matrix',\n",
    "                          cmap=plt.cm.Blues) "
   ]
  },
  {
   "cell_type": "code",
   "execution_count": 334,
   "metadata": {},
   "outputs": [],
   "source": [
    "from sklearn.model_selection import cross_val_predict\n",
    "from sklearn.metrics import accuracy_score, log_loss, make_scorer, confusion_matrix, f1_score, precision_score,\\\n",
    "        recall_score, precision_recall_curve, roc_curve, roc_auc_score"
   ]
  },
  {
   "cell_type": "markdown",
   "metadata": {},
   "source": [
    "### Precision, recall e F1 score\n",
    "\n",
    "A partir da confusion matrix nós obtemos as quantidades de TP, TN, FP e FP. Com estes valores podemos estabelecer métricas mais específicas que podem ser úteis para o modelo.<br>\n",
    "\n",
    "Precision $\\rightarrow Precision = \\frac{TP}{TP+FP}$<br>\n",
    "\n",
    "Recall $\\rightarrow Recall = \\frac{TP}{TP+FN}$<br>\n",
    "\n",
    "F1 $\\rightarrow F1 = \\frac{2}{\\frac{1}{Precision}+\\frac{1}{Recall}}$<br>\n",
    "\n",
    "Para um caso ideal teríamos $FN=0$ e $FP=0$ o que levaria a $Precision=1$ e $Recall=1$ mostrando que o modelo criado é perfeito, mas supondo os seguintes valores:"
   ]
  },
  {
   "cell_type": "code",
   "execution_count": 349,
   "metadata": {},
   "outputs": [
    {
     "name": "stdout",
     "output_type": "stream",
     "text": [
      "Precision = 0.83\n",
      "Recall = 1.00\n",
      "F1 = 0.91\n"
     ]
    }
   ],
   "source": [
    "TP=50.\n",
    "TN=50.\n",
    "FN=0.\n",
    "FP=10.\n",
    "Precision = TP/(TP+FP)\n",
    "Recall = TP/(TP+FN)\n",
    "F1 = 2./((1./Precision)+(1./Recall))\n",
    "print('Precision = {:.2f}'.format(Precision))\n",
    "print('Recall = {:.2f}'.format(Recall))\n",
    "print('F1 = {:.2f}'.format(F1))"
   ]
  },
  {
   "cell_type": "code",
   "execution_count": 350,
   "metadata": {},
   "outputs": [
    {
     "name": "stdout",
     "output_type": "stream",
     "text": [
      "Precision = 1.00\n",
      "Recall = 0.83\n",
      "F1 = 0.91\n"
     ]
    }
   ],
   "source": [
    "TP=50.\n",
    "TN=50.\n",
    "FN=10.\n",
    "FP=0.\n",
    "Precision = TP/(TP+FP)\n",
    "Recall = TP/(TP+FN)\n",
    "F1 = 2./((1./Precision)+(1./Recall))\n",
    "print('Precision = {:.2f}'.format(Precision))\n",
    "print('Recall = {:.2f}'.format(Recall))\n",
    "print('F1 = {:.2f}'.format(F1))"
   ]
  },
  {
   "cell_type": "markdown",
   "metadata": {},
   "source": [
    "Precision é inversamente proporcional ao número de falsos positivos e Recall ao número de falsos negativos, então podemos utilizar estas métricas baseados em nossas prioridades. Voltando ao nosso problema um FN significa que classificamos tumor como benigno e erramos, enquanto FP classificamos como maligno e erramos. Neste caso desejamos que o número de FN seja o menor possível para que um paciente não seja mandado para casa sem tratamento adequado. Assim, podemos modificar os parâmetros dos algoritmos com o objetivo de obter um Recall alto, não importando muito o valor de Precison.<br>\n",
    "\n",
    "Caso não tenhamos uma preferência entre Recall e Precision podemos utilizar o F1 como um meio termo entre os dois, visando que ente seja o mais próximo possível de 1.\n",
    "\n",
    "Se você rodar o algotimo nos dados algumas vezes e verificar a confusion matrix perceberá que os valores das métricas podem mudar algumas vezes. Isto ocorre principalmente por causa da escolha aleatório dos samples para o train set. Um maneira prática de eliminar este problema é usar a função cross_val_predict, vejamos."
   ]
  },
  {
   "cell_type": "code",
   "execution_count": 351,
   "metadata": {},
   "outputs": [],
   "source": [
    "y_pred = cross_val_predict(knn,X_test, y_test,cv=3)\n",
    "cm_knn = confusion_matrix(y_test,y_pred)\n",
    "f1_knn = f1_score(y_test,y_pred)\n",
    "pre_knn = precision_score(y_test,y_pred)\n",
    "rec_knn = recall_score(y_test,y_pred)"
   ]
  },
  {
   "cell_type": "code",
   "execution_count": 352,
   "metadata": {
    "scrolled": true
   },
   "outputs": [
    {
     "name": "stdout",
     "output_type": "stream",
     "text": [
      "[[40  3]\n",
      " [ 3 68]]\n",
      "0.9577464788732394\n",
      "0.9577464788732394\n",
      "0.9577464788732394\n"
     ]
    }
   ],
   "source": [
    "print(cm_knn)\n",
    "print(f1_knn)\n",
    "print(pre_knn)\n",
    "print(rec_knn)"
   ]
  },
  {
   "cell_type": "markdown",
   "metadata": {},
   "source": [
    "O cross_val_predict divide o dataset em partes chamadas 'folds' (cv dentro da função) e faz o cálculo das métricas em cada uma e então faz a média. Quanto maior o número de samples em um dataset menor será o erro das métricas e mais folds podem ser utilizados.\n",
    "\n",
    "Podemos fazer tudo isso de maneira rápida e mais resumida com o classification_report."
   ]
  },
  {
   "cell_type": "code",
   "execution_count": 353,
   "metadata": {},
   "outputs": [
    {
     "name": "stdout",
     "output_type": "stream",
     "text": [
      "             precision    recall  f1-score   support\n",
      "\n",
      "          M       0.93      0.93      0.93        43\n",
      "          B       0.96      0.96      0.96        71\n",
      "\n",
      "avg / total       0.95      0.95      0.95       114\n",
      "\n"
     ]
    }
   ],
   "source": [
    "from sklearn.metrics import classification_report\n",
    "print(classification_report(y_test, y_pred, target_names=[\"M\", \"B\"]))"
   ]
  },
  {
   "cell_type": "markdown",
   "metadata": {},
   "source": [
    "A coluna support mostras as quantidades reais (do test set) de cada uma das classes."
   ]
  },
  {
   "cell_type": "markdown",
   "metadata": {},
   "source": [
    "### Thresholds\n",
    "\n"
   ]
  },
  {
   "cell_type": "code",
   "execution_count": 319,
   "metadata": {},
   "outputs": [],
   "source": [
    "precisions, recalls, thresholds = precision_recall_curve(y_test,y_pred)"
   ]
  },
  {
   "cell_type": "code",
   "execution_count": 320,
   "metadata": {},
   "outputs": [
    {
     "data": {
      "image/png": "[encoded data removed]",
      "text/plain": [
       "<Figure size 576x288 with 1 Axes>"
      ]
     },
     "metadata": {
      "needs_background": "light"
     },
     "output_type": "display_data"
    }
   ],
   "source": [
    "#Plot precision and recall as functions of the threshold value\n",
    "def  plot_precision_recall_vs_threshold(precisions, recalls, thresholds):\n",
    "    plt.plot(thresholds, precisions[:-1], \"b--\", label=\"Precision\", linewidth=2)\n",
    "    plt.plot(thresholds, recalls[:-1], \"g-\", label=\"Recall\", linewidth=2)\n",
    "    plt.xlabel(\"Threshold\", fontsize=16)\n",
    "    plt.legend(loc=\"upper left\", fontsize=16)\n",
    "    #plt.ylim([0, 1])\n",
    "plt.figure(figsize=(8, 4))\n",
    "plot_precision_recall_vs_threshold(precisions, recalls, thresholds)\n",
    "plt.show()"
   ]
  },
  {
   "cell_type": "code",
   "execution_count": 321,
   "metadata": {},
   "outputs": [
    {
     "data": {
      "image/png": "[encoded data removed]",
      "text/plain": [
       "<Figure size 432x288 with 1 Axes>"
      ]
     },
     "metadata": {
      "needs_background": "light"
     },
     "output_type": "display_data"
    }
   ],
   "source": [
    "plt.plot(precisions,recalls)\n",
    "plt.show()"
   ]
  },
  {
   "cell_type": "code",
   "execution_count": 324,
   "metadata": {},
   "outputs": [],
   "source": [
    "y_scores = cross_val_predict(knn,X_test, y_test,cv=3)\n",
    "fpr, tpr, thresholds = roc_curve(y_test,y_scores)"
   ]
  },
  {
   "cell_type": "markdown",
   "metadata": {},
   "source": [
    "### Curva de ROC e Área sob a curva (AUC)\n"
   ]
  },
  {
   "cell_type": "code",
   "execution_count": 325,
   "metadata": {},
   "outputs": [
    {
     "data": {
      "image/png": "[encoded data removed]",
      "text/plain": [
       "<Figure size 576x432 with 1 Axes>"
      ]
     },
     "metadata": {
      "needs_background": "light"
     },
     "output_type": "display_data"
    }
   ],
   "source": [
    "def  plot_roc_curve(fpr, tpr, label=None):\n",
    "    plt.plot(fpr, tpr, linewidth=2, label=label)\n",
    "    plt.plot([0, 1], [0, 1], 'k--')\n",
    "    plt.axis([0, 1, 0, 1])\n",
    "    plt.xlabel('False Positive Rate', fontsize=16)\n",
    "    plt.ylabel('True Positive Rate', fontsize=16)\n",
    "\n",
    "plt.figure(figsize=(8, 6))\n",
    "plot_roc_curve(fpr, tpr)\n",
    "plt.show()"
   ]
  },
  {
   "cell_type": "code",
   "execution_count": 326,
   "metadata": {
    "scrolled": true
   },
   "outputs": [
    {
     "name": "stdout",
     "output_type": "stream",
     "text": [
      "0.9439895185063871\n"
     ]
    }
   ],
   "source": [
    "print(roc_auc_score(y_test,y_scores))"
   ]
  },
  {
   "cell_type": "markdown",
   "metadata": {},
   "source": [
    "Este modelo pode paracer adequado, mas de qualquer maneira vamos usar mais alguns algoritmos: Support Vector Machines (SVM), Stochastic Gradient Descent e Decision Trees."
   ]
  },
  {
   "cell_type": "code",
   "execution_count": 470,
   "metadata": {},
   "outputs": [],
   "source": [
    "from sklearn.svm import SVC\n",
    "from sklearn.tree import DecisionTreeClassifier\n",
    "from sklearn.linear_model import SGDClassifier"
   ]
  },
  {
   "cell_type": "code",
   "execution_count": 471,
   "metadata": {},
   "outputs": [
    {
     "data": {
      "text/plain": [
       "SVC(C=1.0, cache_size=200, class_weight=None, coef0=0.0,\n",
       "  decision_function_shape='ovr', degree=3, gamma='auto', kernel='rbf',\n",
       "  max_iter=-1, probability=False, random_state=None, shrinking=True,\n",
       "  tol=0.001, verbose=False)"
      ]
     },
     "execution_count": 471,
     "metadata": {},
     "output_type": "execute_result"
    }
   ],
   "source": [
    "SVC()"
   ]
  },
  {
   "cell_type": "code",
   "execution_count": 472,
   "metadata": {},
   "outputs": [
    {
     "data": {
      "text/plain": [
       "DecisionTreeClassifier(class_weight=None, criterion='gini', max_depth=None,\n",
       "            max_features=None, max_leaf_nodes=None,\n",
       "            min_impurity_decrease=0.0, min_impurity_split=None,\n",
       "            min_samples_leaf=1, min_samples_split=2,\n",
       "            min_weight_fraction_leaf=0.0, presort=False, random_state=None,\n",
       "            splitter='best')"
      ]
     },
     "execution_count": 472,
     "metadata": {},
     "output_type": "execute_result"
    }
   ],
   "source": [
    "DecisionTreeClassifier()"
   ]
  },
  {
   "cell_type": "code",
   "execution_count": 473,
   "metadata": {},
   "outputs": [
    {
     "data": {
      "text/plain": [
       "SGDClassifier(alpha=0.0001, average=False, class_weight=None, epsilon=0.1,\n",
       "       eta0=0.0, fit_intercept=True, l1_ratio=0.15,\n",
       "       learning_rate='optimal', loss='hinge', max_iter=None, n_iter=None,\n",
       "       n_jobs=1, penalty='l2', power_t=0.5, random_state=None,\n",
       "       shuffle=True, tol=None, verbose=0, warm_start=False)"
      ]
     },
     "execution_count": 473,
     "metadata": {},
     "output_type": "execute_result"
    }
   ],
   "source": [
    "SGDClassifier()"
   ]
  },
  {
   "cell_type": "code",
   "execution_count": null,
   "metadata": {},
   "outputs": [],
   "source": []
  },
  {
   "cell_type": "code",
   "execution_count": null,
   "metadata": {},
   "outputs": [],
   "source": []
  },
  {
   "cell_type": "code",
   "execution_count": null,
   "metadata": {},
   "outputs": [],
   "source": []
  },
  {
   "cell_type": "code",
   "execution_count": null,
   "metadata": {},
   "outputs": [],
   "source": []
  },
  {
   "cell_type": "code",
   "execution_count": null,
   "metadata": {},
   "outputs": [],
   "source": []
  },
  {
   "cell_type": "code",
   "execution_count": null,
   "metadata": {},
   "outputs": [],
   "source": []
  },
  {
   "cell_type": "code",
   "execution_count": null,
   "metadata": {},
   "outputs": [],
   "source": []
  },
  {
   "cell_type": "code",
   "execution_count": null,
   "metadata": {},
   "outputs": [],
   "source": []
  },
  {
   "cell_type": "markdown",
   "metadata": {},
   "source": [
    "## Melhorando o modelo\n",
    "\n",
    "Esse modelo pode ser suficiente para nós, mas nem utilizamos todo o potencial do algoritmo. Agora vamos ver alguns métodos para encontrar os melhores parâmetros o GridSearch. Primeiro vamos verificar que parâmetros o algoritmo possui e que valores podem ser utilizados."
   ]
  },
  {
   "cell_type": "code",
   "execution_count": 409,
   "metadata": {},
   "outputs": [
    {
     "data": {
      "text/plain": [
       "KNeighborsClassifier(algorithm='auto', leaf_size=25, metric='minkowski',\n",
       "           metric_params=None, n_jobs=1, n_neighbors=5, p=2,\n",
       "           weights='uniform')"
      ]
     },
     "execution_count": 409,
     "metadata": {},
     "output_type": "execute_result"
    }
   ],
   "source": [
    "# mais detalhes em http://scikit-learn.org/stable/modules/generated/sklearn.neighbors.KNeighborsClassifier.html\n",
    "knn"
   ]
  },
  {
   "cell_type": "code",
   "execution_count": 410,
   "metadata": {},
   "outputs": [],
   "source": [
    "# escolhemos alguns parâmetros para a procura\n",
    "parameters = {'weights':['uniform','distance'],'leaf_size':[25,30,35], 'n_neighbors':[1,3,5]}"
   ]
  },
  {
   "cell_type": "code",
   "execution_count": 411,
   "metadata": {},
   "outputs": [],
   "source": [
    "# escolhemos uma métrica\n",
    "scorer = make_scorer(precision_score)"
   ]
  },
  {
   "cell_type": "markdown",
   "metadata": {},
   "source": [
    "<img src=\"images/gridsearch_optimization.jpeg\" alt=\"AI Ven Diagram\" style=\"width: 500px;\"/>\n",
    "<h1><center><font size=\"0.5\">Fonte: https://cs.hse.ru/en/bayesgroup/education/moml</font></center></h1>"
   ]
  },
  {
   "cell_type": "code",
   "execution_count": 412,
   "metadata": {},
   "outputs": [],
   "source": [
    "# importando o GridSearch\n",
    "from sklearn.grid_search import GridSearchCV\n",
    "\n",
    "# desabilitar pra mostrar o resultado\n",
    "import warnings\n",
    "warnings.filterwarnings('ignore')\n",
    "\n",
    "# rodamos o grid search no training set\n",
    "grid_obj = GridSearchCV(knn, parameters, scoring=scorer)\n",
    "grid_obj = grid_obj.fit(X_train, y_train)"
   ]
  },
  {
   "cell_type": "code",
   "execution_count": 413,
   "metadata": {},
   "outputs": [
    {
     "data": {
      "text/plain": [
       "KNeighborsClassifier(algorithm='auto', leaf_size=25, metric='minkowski',\n",
       "           metric_params=None, n_jobs=1, n_neighbors=5, p=2,\n",
       "           weights='uniform')"
      ]
     },
     "execution_count": 413,
     "metadata": {},
     "output_type": "execute_result"
    }
   ],
   "source": [
    "# definimos o classificador knn com os melhores parâmetros\n",
    "knn = grid_obj.best_estimator_\n",
    "\n",
    "# e então treinamos o algoritmo com esta combinação\n",
    "knn.fit(X_train, y_train)"
   ]
  },
  {
   "cell_type": "code",
   "execution_count": 414,
   "metadata": {},
   "outputs": [
    {
     "name": "stdout",
     "output_type": "stream",
     "text": [
      "0.956140350877193\n"
     ]
    }
   ],
   "source": [
    "predictions = knn.predict(X_test)\n",
    "print(accuracy_score(y_test, predictions))"
   ]
  },
  {
   "cell_type": "code",
   "execution_count": 415,
   "metadata": {},
   "outputs": [
    {
     "name": "stdout",
     "output_type": "stream",
     "text": [
      "             precision    recall  f1-score   support\n",
      "\n",
      "          M       1.00      0.88      0.94        43\n",
      "          B       0.93      1.00      0.97        71\n",
      "\n",
      "avg / total       0.96      0.96      0.96       114\n",
      "\n"
     ]
    }
   ],
   "source": [
    "print(classification_report(y_test, predictions, target_names=[\"M\", \"B\"]))"
   ]
  },
  {
   "cell_type": "code",
   "execution_count": 416,
   "metadata": {},
   "outputs": [
    {
     "name": "stdout",
     "output_type": "stream",
     "text": [
      "Confusion matrix, without normalization\n"
     ]
    },
    {
     "data": {
      "image/png": "[encoded data removed]",
      "text/plain": [
       "<Figure size 432x288 with 2 Axes>"
      ]
     },
     "metadata": {
      "needs_background": "light"
     },
     "output_type": "display_data"
    }
   ],
   "source": [
    "cm_knn = confusion_matrix(predictions,y_test)\n",
    "plot_confusion_matrix(cm_knn, ['0','1'],\n",
    "                          normalize=False,\n",
    "                          title='Confusion matrix',\n",
    "                          cmap=plt.cm.Blues) "
   ]
  },
  {
   "cell_type": "code",
   "execution_count": 417,
   "metadata": {},
   "outputs": [
    {
     "data": {
      "image/png": "[encoded data removed]",
      "text/plain": [
       "<Figure size 576x432 with 1 Axes>"
      ]
     },
     "metadata": {
      "needs_background": "light"
     },
     "output_type": "display_data"
    },
    {
     "name": "stdout",
     "output_type": "stream",
     "text": [
      "0.9418604651162791\n"
     ]
    }
   ],
   "source": [
    "fpr, tpr, thresholds = roc_curve(y_test,predictions)\n",
    "\n",
    "plt.figure(figsize=(8, 6))\n",
    "plot_roc_curve(fpr, tpr)\n",
    "plt.show()\n",
    "\n",
    "print(roc_auc_score(y_test,predictions))"
   ]
  },
  {
   "cell_type": "markdown",
   "metadata": {},
   "source": [
    "## Conclusões"
   ]
  },
  {
   "cell_type": "markdown",
   "metadata": {},
   "source": [
    "## HIV cleavage\n",
    "\n",
    "Nós deveríamos utilizar mais algoritmos, pois podemos encontrar um algoritmo que generalize melhor os dados, mas para fazer isso vamos partir para um problema um pouco mais complexo e com um dataset mais interessante."
   ]
  },
  {
   "cell_type": "code",
   "execution_count": null,
   "metadata": {},
   "outputs": [],
   "source": []
  },
  {
   "cell_type": "markdown",
   "metadata": {},
   "source": [
    "# Regressão"
   ]
  },
  {
   "cell_type": "code",
   "execution_count": null,
   "metadata": {},
   "outputs": [],
   "source": []
  }
 ],
 "metadata": {
  "kernelspec": {
   "display_name": "Python 3",
   "language": "python",
   "name": "python3"
  },
  "language_info": {
   "codemirror_mode": {
    "name": "ipython",
    "version": 3
   },
   "file_extension": ".py",
   "mimetype": "text/x-python",
   "name": "python",
   "nbconvert_exporter": "python",
   "pygments_lexer": "ipython3",
   "version": "3.6.2"
  }
 },
 "nbformat": 4,
 "nbformat_minor": 2
}
